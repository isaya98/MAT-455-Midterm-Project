{
 "cells": [
  {
   "cell_type": "code",
   "execution_count": 1,
   "id": "5ea93ebb",
   "metadata": {},
   "outputs": [],
   "source": [
    "import pandas as pd\n",
    "import numpy as np\n",
    "import matplotlib.pyplot as plt\n",
    "import seaborn as sns\n",
    "import warnings\n",
    "warnings.filterwarnings(\"ignore\")"
   ]
  },
  {
   "cell_type": "code",
   "execution_count": 2,
   "id": "3e6dfa3a",
   "metadata": {},
   "outputs": [],
   "source": [
    "df = pd.read_csv ('Highest Hollywood Grossing Movies.csv')"
   ]
  },
  {
   "cell_type": "code",
   "execution_count": 3,
   "id": "af3a405a",
   "metadata": {},
   "outputs": [
    {
     "data": {
      "text/plain": [
       "(918, 11)"
      ]
     },
     "execution_count": 3,
     "metadata": {},
     "output_type": "execute_result"
    }
   ],
   "source": [
    "df.shape"
   ]
  },
  {
   "cell_type": "code",
   "execution_count": 4,
   "id": "6a1d7be7",
   "metadata": {},
   "outputs": [
    {
     "data": {
      "text/plain": [
       "Unnamed: 0                     int64\n",
       "Title                         object\n",
       "Movie Info                    object\n",
       "Distributor                   object\n",
       "Release Date                  object\n",
       "Domestic Sales (in $)          int64\n",
       "International Sales (in $)     int64\n",
       "World Sales (in $)             int64\n",
       "Genre                         object\n",
       "Movie Runtime                 object\n",
       "License                       object\n",
       "dtype: object"
      ]
     },
     "execution_count": 4,
     "metadata": {},
     "output_type": "execute_result"
    }
   ],
   "source": [
    "df.dtypes"
   ]
  },
  {
   "cell_type": "code",
   "execution_count": 5,
   "id": "b84c8510",
   "metadata": {},
   "outputs": [
    {
     "data": {
      "text/html": [
       "<div>\n",
       "<style scoped>\n",
       "    .dataframe tbody tr th:only-of-type {\n",
       "        vertical-align: middle;\n",
       "    }\n",
       "\n",
       "    .dataframe tbody tr th {\n",
       "        vertical-align: top;\n",
       "    }\n",
       "\n",
       "    .dataframe thead th {\n",
       "        text-align: right;\n",
       "    }\n",
       "</style>\n",
       "<table border=\"1\" class=\"dataframe\">\n",
       "  <thead>\n",
       "    <tr style=\"text-align: right;\">\n",
       "      <th></th>\n",
       "      <th>Unnamed: 0</th>\n",
       "      <th>Domestic Sales (in $)</th>\n",
       "      <th>International Sales (in $)</th>\n",
       "      <th>World Sales (in $)</th>\n",
       "    </tr>\n",
       "  </thead>\n",
       "  <tbody>\n",
       "    <tr>\n",
       "      <th>count</th>\n",
       "      <td>918.000000</td>\n",
       "      <td>9.180000e+02</td>\n",
       "      <td>9.180000e+02</td>\n",
       "      <td>9.180000e+02</td>\n",
       "    </tr>\n",
       "    <tr>\n",
       "      <th>mean</th>\n",
       "      <td>458.500000</td>\n",
       "      <td>1.677469e+08</td>\n",
       "      <td>2.301434e+08</td>\n",
       "      <td>3.968668e+08</td>\n",
       "    </tr>\n",
       "    <tr>\n",
       "      <th>std</th>\n",
       "      <td>265.148072</td>\n",
       "      <td>1.040360e+08</td>\n",
       "      <td>2.176011e+08</td>\n",
       "      <td>3.082629e+08</td>\n",
       "    </tr>\n",
       "    <tr>\n",
       "      <th>min</th>\n",
       "      <td>0.000000</td>\n",
       "      <td>8.036084e+07</td>\n",
       "      <td>2.600000e+02</td>\n",
       "      <td>8.160000e+07</td>\n",
       "    </tr>\n",
       "    <tr>\n",
       "      <th>25%</th>\n",
       "      <td>229.250000</td>\n",
       "      <td>1.016071e+08</td>\n",
       "      <td>8.845620e+07</td>\n",
       "      <td>2.005564e+08</td>\n",
       "    </tr>\n",
       "    <tr>\n",
       "      <th>50%</th>\n",
       "      <td>458.500000</td>\n",
       "      <td>1.321351e+08</td>\n",
       "      <td>1.638819e+08</td>\n",
       "      <td>3.019416e+08</td>\n",
       "    </tr>\n",
       "    <tr>\n",
       "      <th>75%</th>\n",
       "      <td>687.750000</td>\n",
       "      <td>1.913905e+08</td>\n",
       "      <td>2.885577e+08</td>\n",
       "      <td>4.750718e+08</td>\n",
       "    </tr>\n",
       "    <tr>\n",
       "      <th>max</th>\n",
       "      <td>917.000000</td>\n",
       "      <td>9.366622e+08</td>\n",
       "      <td>2.086739e+09</td>\n",
       "      <td>2.847246e+09</td>\n",
       "    </tr>\n",
       "  </tbody>\n",
       "</table>\n",
       "</div>"
      ],
      "text/plain": [
       "       Unnamed: 0  Domestic Sales (in $)  International Sales (in $)  \\\n",
       "count  918.000000           9.180000e+02                9.180000e+02   \n",
       "mean   458.500000           1.677469e+08                2.301434e+08   \n",
       "std    265.148072           1.040360e+08                2.176011e+08   \n",
       "min      0.000000           8.036084e+07                2.600000e+02   \n",
       "25%    229.250000           1.016071e+08                8.845620e+07   \n",
       "50%    458.500000           1.321351e+08                1.638819e+08   \n",
       "75%    687.750000           1.913905e+08                2.885577e+08   \n",
       "max    917.000000           9.366622e+08                2.086739e+09   \n",
       "\n",
       "       World Sales (in $)  \n",
       "count        9.180000e+02  \n",
       "mean         3.968668e+08  \n",
       "std          3.082629e+08  \n",
       "min          8.160000e+07  \n",
       "25%          2.005564e+08  \n",
       "50%          3.019416e+08  \n",
       "75%          4.750718e+08  \n",
       "max          2.847246e+09  "
      ]
     },
     "execution_count": 5,
     "metadata": {},
     "output_type": "execute_result"
    }
   ],
   "source": [
    "df.describe()"
   ]
  },
  {
   "cell_type": "code",
   "execution_count": 6,
   "id": "c0a43373",
   "metadata": {
    "scrolled": true
   },
   "outputs": [
    {
     "data": {
      "text/html": [
       "<div>\n",
       "<style scoped>\n",
       "    .dataframe tbody tr th:only-of-type {\n",
       "        vertical-align: middle;\n",
       "    }\n",
       "\n",
       "    .dataframe tbody tr th {\n",
       "        vertical-align: top;\n",
       "    }\n",
       "\n",
       "    .dataframe thead th {\n",
       "        text-align: right;\n",
       "    }\n",
       "</style>\n",
       "<table border=\"1\" class=\"dataframe\">\n",
       "  <thead>\n",
       "    <tr style=\"text-align: right;\">\n",
       "      <th></th>\n",
       "      <th>Unnamed: 0</th>\n",
       "      <th>Title</th>\n",
       "      <th>Movie Info</th>\n",
       "      <th>Distributor</th>\n",
       "      <th>Release Date</th>\n",
       "      <th>Domestic Sales (in $)</th>\n",
       "      <th>International Sales (in $)</th>\n",
       "      <th>World Sales (in $)</th>\n",
       "      <th>Genre</th>\n",
       "      <th>Movie Runtime</th>\n",
       "      <th>License</th>\n",
       "    </tr>\n",
       "  </thead>\n",
       "  <tbody>\n",
       "    <tr>\n",
       "      <th>0</th>\n",
       "      <td>0</td>\n",
       "      <td>Star Wars: Episode VII - The Force Awakens (2015)</td>\n",
       "      <td>As a new threat to the galaxy rises, Rey, a de...</td>\n",
       "      <td>Walt Disney Studios Motion Pictures</td>\n",
       "      <td>16-Dec-15</td>\n",
       "      <td>936662225</td>\n",
       "      <td>1132859475</td>\n",
       "      <td>2069521700</td>\n",
       "      <td>['Action', 'Adventure', 'Sci-Fi']</td>\n",
       "      <td>2 hr 18 min</td>\n",
       "      <td>PG-13</td>\n",
       "    </tr>\n",
       "    <tr>\n",
       "      <th>1</th>\n",
       "      <td>1</td>\n",
       "      <td>Avengers: Endgame (2019)</td>\n",
       "      <td>After the devastating events of Avengers: Infi...</td>\n",
       "      <td>Walt Disney Studios Motion Pictures</td>\n",
       "      <td>24-Apr-19</td>\n",
       "      <td>858373000</td>\n",
       "      <td>1939128328</td>\n",
       "      <td>2797501328</td>\n",
       "      <td>['Action', 'Adventure', 'Drama', 'Sci-Fi']</td>\n",
       "      <td>3 hr 1 min</td>\n",
       "      <td>PG-13</td>\n",
       "    </tr>\n",
       "    <tr>\n",
       "      <th>2</th>\n",
       "      <td>2</td>\n",
       "      <td>Avatar (2009)</td>\n",
       "      <td>A paraplegic Marine dispatched to the moon Pan...</td>\n",
       "      <td>Twentieth Century Fox</td>\n",
       "      <td>16-Dec-09</td>\n",
       "      <td>760507625</td>\n",
       "      <td>2086738578</td>\n",
       "      <td>2847246203</td>\n",
       "      <td>['Action', 'Adventure', 'Fantasy', 'Sci-Fi']</td>\n",
       "      <td>2 hr 42 min</td>\n",
       "      <td>PG-13</td>\n",
       "    </tr>\n",
       "    <tr>\n",
       "      <th>3</th>\n",
       "      <td>3</td>\n",
       "      <td>Black Panther (2018)</td>\n",
       "      <td>T'Challa, heir to the hidden but advanced king...</td>\n",
       "      <td>Walt Disney Studios Motion Pictures</td>\n",
       "      <td>NaN</td>\n",
       "      <td>700426566</td>\n",
       "      <td>647171407</td>\n",
       "      <td>1347597973</td>\n",
       "      <td>['Action', 'Adventure', 'Sci-Fi']</td>\n",
       "      <td>2 hr 14 min</td>\n",
       "      <td>NaN</td>\n",
       "    </tr>\n",
       "    <tr>\n",
       "      <th>4</th>\n",
       "      <td>4</td>\n",
       "      <td>Avengers: Infinity War (2018)</td>\n",
       "      <td>The Avengers and their allies must be willing ...</td>\n",
       "      <td>Walt Disney Studios Motion Pictures</td>\n",
       "      <td>NaN</td>\n",
       "      <td>678815482</td>\n",
       "      <td>1369544272</td>\n",
       "      <td>2048359754</td>\n",
       "      <td>['Action', 'Adventure', 'Sci-Fi']</td>\n",
       "      <td>2 hr 29 min</td>\n",
       "      <td>NaN</td>\n",
       "    </tr>\n",
       "    <tr>\n",
       "      <th>5</th>\n",
       "      <td>5</td>\n",
       "      <td>Spider-Man: No Way Home (2021)</td>\n",
       "      <td>With Spider-Man's identity now revealed, Peter...</td>\n",
       "      <td>Sony Pictures Entertainment (SPE)</td>\n",
       "      <td>NaN</td>\n",
       "      <td>675813257</td>\n",
       "      <td>868642706</td>\n",
       "      <td>1544455963</td>\n",
       "      <td>['Action', 'Adventure', 'Fantasy', 'Sci-Fi']</td>\n",
       "      <td>2 hr 28 min</td>\n",
       "      <td>NaN</td>\n",
       "    </tr>\n",
       "    <tr>\n",
       "      <th>6</th>\n",
       "      <td>6</td>\n",
       "      <td>Titanic (1997)</td>\n",
       "      <td>A seventeen-year-old aristocrat falls in love ...</td>\n",
       "      <td>Paramount Pictures</td>\n",
       "      <td>19-Dec-97</td>\n",
       "      <td>659363944</td>\n",
       "      <td>1542283320</td>\n",
       "      <td>2201647264</td>\n",
       "      <td>['Drama', 'Romance']</td>\n",
       "      <td>3 hr 14 min</td>\n",
       "      <td>PG-13</td>\n",
       "    </tr>\n",
       "    <tr>\n",
       "      <th>7</th>\n",
       "      <td>7</td>\n",
       "      <td>Jurassic World (2015)</td>\n",
       "      <td>A new theme park, built on the original site o...</td>\n",
       "      <td>Universal Pictures</td>\n",
       "      <td>10-Jun-15</td>\n",
       "      <td>652385625</td>\n",
       "      <td>1018130819</td>\n",
       "      <td>1670516444</td>\n",
       "      <td>['Action', 'Adventure', 'Sci-Fi']</td>\n",
       "      <td>2 hr 4 min</td>\n",
       "      <td>PG-13</td>\n",
       "    </tr>\n",
       "    <tr>\n",
       "      <th>8</th>\n",
       "      <td>8</td>\n",
       "      <td>The Avengers (2012)</td>\n",
       "      <td>Earth's mightiest heroes must come together an...</td>\n",
       "      <td>Walt Disney Studios Motion Pictures</td>\n",
       "      <td>25-Apr-12</td>\n",
       "      <td>623357910</td>\n",
       "      <td>895457605</td>\n",
       "      <td>1518815515</td>\n",
       "      <td>['Action', 'Adventure', 'Sci-Fi']</td>\n",
       "      <td>2 hr 23 min</td>\n",
       "      <td>PG-13</td>\n",
       "    </tr>\n",
       "    <tr>\n",
       "      <th>9</th>\n",
       "      <td>9</td>\n",
       "      <td>Star Wars: Episode VIII - The Last Jedi (2017)</td>\n",
       "      <td>The Star Wars saga continues as new heroes and...</td>\n",
       "      <td>Walt Disney Studios Motion Pictures</td>\n",
       "      <td>13-Dec-17</td>\n",
       "      <td>620181382</td>\n",
       "      <td>712517448</td>\n",
       "      <td>1332698830</td>\n",
       "      <td>['Action', 'Adventure', 'Fantasy', 'Sci-Fi']</td>\n",
       "      <td>2 hr 32 min</td>\n",
       "      <td>PG-13</td>\n",
       "    </tr>\n",
       "  </tbody>\n",
       "</table>\n",
       "</div>"
      ],
      "text/plain": [
       "   Unnamed: 0                                              Title  \\\n",
       "0           0  Star Wars: Episode VII - The Force Awakens (2015)   \n",
       "1           1                           Avengers: Endgame (2019)   \n",
       "2           2                                      Avatar (2009)   \n",
       "3           3                               Black Panther (2018)   \n",
       "4           4                      Avengers: Infinity War (2018)   \n",
       "5           5                     Spider-Man: No Way Home (2021)   \n",
       "6           6                                     Titanic (1997)   \n",
       "7           7                              Jurassic World (2015)   \n",
       "8           8                                The Avengers (2012)   \n",
       "9           9     Star Wars: Episode VIII - The Last Jedi (2017)   \n",
       "\n",
       "                                          Movie Info  \\\n",
       "0  As a new threat to the galaxy rises, Rey, a de...   \n",
       "1  After the devastating events of Avengers: Infi...   \n",
       "2  A paraplegic Marine dispatched to the moon Pan...   \n",
       "3  T'Challa, heir to the hidden but advanced king...   \n",
       "4  The Avengers and their allies must be willing ...   \n",
       "5  With Spider-Man's identity now revealed, Peter...   \n",
       "6  A seventeen-year-old aristocrat falls in love ...   \n",
       "7  A new theme park, built on the original site o...   \n",
       "8  Earth's mightiest heroes must come together an...   \n",
       "9  The Star Wars saga continues as new heroes and...   \n",
       "\n",
       "                           Distributor Release Date  Domestic Sales (in $)  \\\n",
       "0  Walt Disney Studios Motion Pictures    16-Dec-15              936662225   \n",
       "1  Walt Disney Studios Motion Pictures    24-Apr-19              858373000   \n",
       "2                Twentieth Century Fox    16-Dec-09              760507625   \n",
       "3  Walt Disney Studios Motion Pictures          NaN              700426566   \n",
       "4  Walt Disney Studios Motion Pictures          NaN              678815482   \n",
       "5    Sony Pictures Entertainment (SPE)          NaN              675813257   \n",
       "6                   Paramount Pictures    19-Dec-97              659363944   \n",
       "7                   Universal Pictures    10-Jun-15              652385625   \n",
       "8  Walt Disney Studios Motion Pictures    25-Apr-12              623357910   \n",
       "9  Walt Disney Studios Motion Pictures    13-Dec-17              620181382   \n",
       "\n",
       "   International Sales (in $)  World Sales (in $)  \\\n",
       "0                  1132859475          2069521700   \n",
       "1                  1939128328          2797501328   \n",
       "2                  2086738578          2847246203   \n",
       "3                   647171407          1347597973   \n",
       "4                  1369544272          2048359754   \n",
       "5                   868642706          1544455963   \n",
       "6                  1542283320          2201647264   \n",
       "7                  1018130819          1670516444   \n",
       "8                   895457605          1518815515   \n",
       "9                   712517448          1332698830   \n",
       "\n",
       "                                          Genre Movie Runtime License  \n",
       "0             ['Action', 'Adventure', 'Sci-Fi']   2 hr 18 min   PG-13  \n",
       "1    ['Action', 'Adventure', 'Drama', 'Sci-Fi']    3 hr 1 min   PG-13  \n",
       "2  ['Action', 'Adventure', 'Fantasy', 'Sci-Fi']   2 hr 42 min   PG-13  \n",
       "3             ['Action', 'Adventure', 'Sci-Fi']   2 hr 14 min     NaN  \n",
       "4             ['Action', 'Adventure', 'Sci-Fi']   2 hr 29 min     NaN  \n",
       "5  ['Action', 'Adventure', 'Fantasy', 'Sci-Fi']   2 hr 28 min     NaN  \n",
       "6                          ['Drama', 'Romance']   3 hr 14 min   PG-13  \n",
       "7             ['Action', 'Adventure', 'Sci-Fi']    2 hr 4 min   PG-13  \n",
       "8             ['Action', 'Adventure', 'Sci-Fi']   2 hr 23 min   PG-13  \n",
       "9  ['Action', 'Adventure', 'Fantasy', 'Sci-Fi']   2 hr 32 min   PG-13  "
      ]
     },
     "execution_count": 6,
     "metadata": {},
     "output_type": "execute_result"
    }
   ],
   "source": [
    "df.head(10)"
   ]
  },
  {
   "cell_type": "code",
   "execution_count": 7,
   "id": "7355c272",
   "metadata": {},
   "outputs": [
    {
     "data": {
      "text/plain": [
       "'As a new threat to the galaxy rises, Rey, a desert scavenger, and Finn, an ex-stormtrooper, must join Han Solo and Chewbacca to search for the one hope of restoring peace.'"
      ]
     },
     "execution_count": 7,
     "metadata": {},
     "output_type": "execute_result"
    }
   ],
   "source": [
    "df.at[0,'Movie Info']"
   ]
  },
  {
   "cell_type": "markdown",
   "id": "2a257ac6",
   "metadata": {},
   "source": [
    "From df.describe and df.head I already see some basic cleaning needs to take place. Unnamed column is a duplicate index column. Also, dropping Movie Info column as that doesn't relate to the questions I have about the data. All the sales columns should be renamed for easier future refrencing in code. Further looking at NaN values present and deciding how to handle them. Also some of the data types need to be changed for example Movie Runtime and Release Date."
   ]
  },
  {
   "cell_type": "markdown",
   "id": "c4ba8661",
   "metadata": {},
   "source": [
    "### Data cleaning"
   ]
  },
  {
   "cell_type": "code",
   "execution_count": 8,
   "id": "ca15497b",
   "metadata": {},
   "outputs": [],
   "source": [
    "# Renaming columns\n",
    "df.rename(columns = {'Domestic Sales (in $)': 'Domestic Sales',\n",
    "                     'International Sales (in $)': 'International Sales',\n",
    "                     'World Sales (in $)': 'World Sales'}, inplace = True)"
   ]
  },
  {
   "cell_type": "code",
   "execution_count": 9,
   "id": "2b10df00",
   "metadata": {},
   "outputs": [],
   "source": [
    "df = df.drop (columns = ['Unnamed: 0','Movie Info'])"
   ]
  },
  {
   "cell_type": "code",
   "execution_count": 10,
   "id": "e5822977",
   "metadata": {
    "scrolled": true
   },
   "outputs": [
    {
     "data": {
      "text/html": [
       "<div>\n",
       "<style scoped>\n",
       "    .dataframe tbody tr th:only-of-type {\n",
       "        vertical-align: middle;\n",
       "    }\n",
       "\n",
       "    .dataframe tbody tr th {\n",
       "        vertical-align: top;\n",
       "    }\n",
       "\n",
       "    .dataframe thead th {\n",
       "        text-align: right;\n",
       "    }\n",
       "</style>\n",
       "<table border=\"1\" class=\"dataframe\">\n",
       "  <thead>\n",
       "    <tr style=\"text-align: right;\">\n",
       "      <th></th>\n",
       "      <th>Title</th>\n",
       "      <th>Distributor</th>\n",
       "      <th>Release Date</th>\n",
       "      <th>Domestic Sales</th>\n",
       "      <th>International Sales</th>\n",
       "      <th>World Sales</th>\n",
       "      <th>Genre</th>\n",
       "      <th>Movie Runtime</th>\n",
       "      <th>License</th>\n",
       "    </tr>\n",
       "  </thead>\n",
       "  <tbody>\n",
       "    <tr>\n",
       "      <th>0</th>\n",
       "      <td>Star Wars: Episode VII - The Force Awakens (2015)</td>\n",
       "      <td>Walt Disney Studios Motion Pictures</td>\n",
       "      <td>16-Dec-15</td>\n",
       "      <td>936662225</td>\n",
       "      <td>1132859475</td>\n",
       "      <td>2069521700</td>\n",
       "      <td>['Action', 'Adventure', 'Sci-Fi']</td>\n",
       "      <td>2 hr 18 min</td>\n",
       "      <td>PG-13</td>\n",
       "    </tr>\n",
       "    <tr>\n",
       "      <th>1</th>\n",
       "      <td>Avengers: Endgame (2019)</td>\n",
       "      <td>Walt Disney Studios Motion Pictures</td>\n",
       "      <td>24-Apr-19</td>\n",
       "      <td>858373000</td>\n",
       "      <td>1939128328</td>\n",
       "      <td>2797501328</td>\n",
       "      <td>['Action', 'Adventure', 'Drama', 'Sci-Fi']</td>\n",
       "      <td>3 hr 1 min</td>\n",
       "      <td>PG-13</td>\n",
       "    </tr>\n",
       "    <tr>\n",
       "      <th>2</th>\n",
       "      <td>Avatar (2009)</td>\n",
       "      <td>Twentieth Century Fox</td>\n",
       "      <td>16-Dec-09</td>\n",
       "      <td>760507625</td>\n",
       "      <td>2086738578</td>\n",
       "      <td>2847246203</td>\n",
       "      <td>['Action', 'Adventure', 'Fantasy', 'Sci-Fi']</td>\n",
       "      <td>2 hr 42 min</td>\n",
       "      <td>PG-13</td>\n",
       "    </tr>\n",
       "    <tr>\n",
       "      <th>3</th>\n",
       "      <td>Black Panther (2018)</td>\n",
       "      <td>Walt Disney Studios Motion Pictures</td>\n",
       "      <td>NaN</td>\n",
       "      <td>700426566</td>\n",
       "      <td>647171407</td>\n",
       "      <td>1347597973</td>\n",
       "      <td>['Action', 'Adventure', 'Sci-Fi']</td>\n",
       "      <td>2 hr 14 min</td>\n",
       "      <td>NaN</td>\n",
       "    </tr>\n",
       "    <tr>\n",
       "      <th>4</th>\n",
       "      <td>Avengers: Infinity War (2018)</td>\n",
       "      <td>Walt Disney Studios Motion Pictures</td>\n",
       "      <td>NaN</td>\n",
       "      <td>678815482</td>\n",
       "      <td>1369544272</td>\n",
       "      <td>2048359754</td>\n",
       "      <td>['Action', 'Adventure', 'Sci-Fi']</td>\n",
       "      <td>2 hr 29 min</td>\n",
       "      <td>NaN</td>\n",
       "    </tr>\n",
       "    <tr>\n",
       "      <th>...</th>\n",
       "      <td>...</td>\n",
       "      <td>...</td>\n",
       "      <td>...</td>\n",
       "      <td>...</td>\n",
       "      <td>...</td>\n",
       "      <td>...</td>\n",
       "      <td>...</td>\n",
       "      <td>...</td>\n",
       "      <td>...</td>\n",
       "    </tr>\n",
       "    <tr>\n",
       "      <th>913</th>\n",
       "      <td>The Notebook (2004)</td>\n",
       "      <td>New Line Cinema</td>\n",
       "      <td>25-Jun-04</td>\n",
       "      <td>81001787</td>\n",
       "      <td>36813370</td>\n",
       "      <td>117815157</td>\n",
       "      <td>['Drama', 'Romance']</td>\n",
       "      <td>2 hr 3 min</td>\n",
       "      <td>PG-13</td>\n",
       "    </tr>\n",
       "    <tr>\n",
       "      <th>914</th>\n",
       "      <td>Jimmy Neutron: Boy Genius (2001)</td>\n",
       "      <td>Paramount Pictures</td>\n",
       "      <td>21-Dec-01</td>\n",
       "      <td>80936232</td>\n",
       "      <td>22056304</td>\n",
       "      <td>102992536</td>\n",
       "      <td>['Action', 'Adventure', 'Animation', 'Comedy',...</td>\n",
       "      <td>1 hr 22 min</td>\n",
       "      <td>NaN</td>\n",
       "    </tr>\n",
       "    <tr>\n",
       "      <th>915</th>\n",
       "      <td>Eat Pray Love (2010)</td>\n",
       "      <td>Sony Pictures Entertainment (SPE)</td>\n",
       "      <td>13-Aug-10</td>\n",
       "      <td>80574010</td>\n",
       "      <td>124020006</td>\n",
       "      <td>204594016</td>\n",
       "      <td>['Biography', 'Drama', 'Romance']</td>\n",
       "      <td>2 hr 13 min</td>\n",
       "      <td>PG-13</td>\n",
       "    </tr>\n",
       "    <tr>\n",
       "      <th>916</th>\n",
       "      <td>The Texas Chainsaw Massacre (2003)</td>\n",
       "      <td>New Line Cinema</td>\n",
       "      <td>17-Oct-03</td>\n",
       "      <td>80571655</td>\n",
       "      <td>26792250</td>\n",
       "      <td>107363905</td>\n",
       "      <td>['Crime', 'Horror']</td>\n",
       "      <td>1 hr 38 min</td>\n",
       "      <td>R</td>\n",
       "    </tr>\n",
       "    <tr>\n",
       "      <th>917</th>\n",
       "      <td>Zookeeper (2011)</td>\n",
       "      <td>Sony Pictures Entertainment (SPE)</td>\n",
       "      <td>6-Jul-11</td>\n",
       "      <td>80360843</td>\n",
       "      <td>89491916</td>\n",
       "      <td>169852759</td>\n",
       "      <td>['Comedy', 'Family', 'Fantasy', 'Romance']</td>\n",
       "      <td>1 hr 42 min</td>\n",
       "      <td>PG</td>\n",
       "    </tr>\n",
       "  </tbody>\n",
       "</table>\n",
       "<p>918 rows × 9 columns</p>\n",
       "</div>"
      ],
      "text/plain": [
       "                                                 Title  \\\n",
       "0    Star Wars: Episode VII - The Force Awakens (2015)   \n",
       "1                             Avengers: Endgame (2019)   \n",
       "2                                        Avatar (2009)   \n",
       "3                                 Black Panther (2018)   \n",
       "4                        Avengers: Infinity War (2018)   \n",
       "..                                                 ...   \n",
       "913                                The Notebook (2004)   \n",
       "914                   Jimmy Neutron: Boy Genius (2001)   \n",
       "915                               Eat Pray Love (2010)   \n",
       "916                 The Texas Chainsaw Massacre (2003)   \n",
       "917                                   Zookeeper (2011)   \n",
       "\n",
       "                             Distributor Release Date  Domestic Sales  \\\n",
       "0    Walt Disney Studios Motion Pictures    16-Dec-15       936662225   \n",
       "1    Walt Disney Studios Motion Pictures    24-Apr-19       858373000   \n",
       "2                  Twentieth Century Fox    16-Dec-09       760507625   \n",
       "3    Walt Disney Studios Motion Pictures          NaN       700426566   \n",
       "4    Walt Disney Studios Motion Pictures          NaN       678815482   \n",
       "..                                   ...          ...             ...   \n",
       "913                      New Line Cinema    25-Jun-04        81001787   \n",
       "914                   Paramount Pictures    21-Dec-01        80936232   \n",
       "915    Sony Pictures Entertainment (SPE)    13-Aug-10        80574010   \n",
       "916                      New Line Cinema    17-Oct-03        80571655   \n",
       "917    Sony Pictures Entertainment (SPE)     6-Jul-11        80360843   \n",
       "\n",
       "     International Sales  World Sales  \\\n",
       "0             1132859475   2069521700   \n",
       "1             1939128328   2797501328   \n",
       "2             2086738578   2847246203   \n",
       "3              647171407   1347597973   \n",
       "4             1369544272   2048359754   \n",
       "..                   ...          ...   \n",
       "913             36813370    117815157   \n",
       "914             22056304    102992536   \n",
       "915            124020006    204594016   \n",
       "916             26792250    107363905   \n",
       "917             89491916    169852759   \n",
       "\n",
       "                                                 Genre Movie Runtime License  \n",
       "0                    ['Action', 'Adventure', 'Sci-Fi']   2 hr 18 min   PG-13  \n",
       "1           ['Action', 'Adventure', 'Drama', 'Sci-Fi']    3 hr 1 min   PG-13  \n",
       "2         ['Action', 'Adventure', 'Fantasy', 'Sci-Fi']   2 hr 42 min   PG-13  \n",
       "3                    ['Action', 'Adventure', 'Sci-Fi']   2 hr 14 min     NaN  \n",
       "4                    ['Action', 'Adventure', 'Sci-Fi']   2 hr 29 min     NaN  \n",
       "..                                                 ...           ...     ...  \n",
       "913                               ['Drama', 'Romance']    2 hr 3 min   PG-13  \n",
       "914  ['Action', 'Adventure', 'Animation', 'Comedy',...   1 hr 22 min     NaN  \n",
       "915                  ['Biography', 'Drama', 'Romance']   2 hr 13 min   PG-13  \n",
       "916                                ['Crime', 'Horror']   1 hr 38 min       R  \n",
       "917         ['Comedy', 'Family', 'Fantasy', 'Romance']   1 hr 42 min      PG  \n",
       "\n",
       "[918 rows x 9 columns]"
      ]
     },
     "execution_count": 10,
     "metadata": {},
     "output_type": "execute_result"
    }
   ],
   "source": [
    "df"
   ]
  },
  {
   "cell_type": "code",
   "execution_count": 11,
   "id": "d7b16ac3",
   "metadata": {
    "scrolled": true
   },
   "outputs": [
    {
     "data": {
      "text/plain": [
       "Title                    0\n",
       "Distributor              0\n",
       "Release Date           118\n",
       "Domestic Sales           0\n",
       "International Sales      0\n",
       "World Sales              0\n",
       "Genre                    0\n",
       "Movie Runtime            0\n",
       "License                174\n",
       "dtype: int64"
      ]
     },
     "execution_count": 11,
     "metadata": {},
     "output_type": "execute_result"
    }
   ],
   "source": [
    "df.isnull().sum()"
   ]
  },
  {
   "cell_type": "markdown",
   "id": "d76680e8",
   "metadata": {},
   "source": [
    "Here we see a significant number of movies without a rating and some missing a release date. I will see which rating occurs most often and if it is over 70% of the movies I will fill in the missing values with the most popular rating. As for the release date, I notice the names of the movies all have the year attached. I will try to remove the year from the name and put it into a seperate column making it easier to analyze by year. "
   ]
  },
  {
   "cell_type": "code",
   "execution_count": 12,
   "id": "3a3b2133",
   "metadata": {},
   "outputs": [
    {
     "data": {
      "text/plain": [
       "Title                  918\n",
       "Distributor             34\n",
       "Release Date           740\n",
       "Domestic Sales         918\n",
       "International Sales    913\n",
       "World Sales            918\n",
       "Genre                  309\n",
       "Movie Runtime          101\n",
       "License                  4\n",
       "dtype: int64"
      ]
     },
     "execution_count": 12,
     "metadata": {},
     "output_type": "execute_result"
    }
   ],
   "source": [
    "df.nunique()"
   ]
  },
  {
   "cell_type": "code",
   "execution_count": 13,
   "id": "f6ef4539",
   "metadata": {},
   "outputs": [
    {
     "data": {
      "text/plain": [
       "array(['PG-13', nan, 'PG', 'G', 'R'], dtype=object)"
      ]
     },
     "execution_count": 13,
     "metadata": {},
     "output_type": "execute_result"
    }
   ],
   "source": [
    "df['License'].unique()"
   ]
  },
  {
   "cell_type": "code",
   "execution_count": 14,
   "id": "a3ac7fca",
   "metadata": {},
   "outputs": [
    {
     "data": {
      "text/plain": [
       "PG-13    363\n",
       "R        194\n",
       "PG       173\n",
       "G         14\n",
       "Name: License, dtype: int64"
      ]
     },
     "execution_count": 14,
     "metadata": {},
     "output_type": "execute_result"
    }
   ],
   "source": [
    "df['License'].value_counts()"
   ]
  },
  {
   "cell_type": "markdown",
   "id": "383f2f19",
   "metadata": {},
   "source": [
    "Only around 40% of the highest grossing movies are PG-13 that isn't enough that I feel comfortable filling in the remaining movies with the same rating. When looking at data over the years most movies each year are PG-13 but there has been years where there's more R movies released."
   ]
  },
  {
   "cell_type": "code",
   "execution_count": 15,
   "id": "1b31a9ee",
   "metadata": {},
   "outputs": [
    {
     "data": {
      "text/plain": [
       "0     0 days 02:18:00\n",
       "1     0 days 03:01:00\n",
       "2     0 days 02:42:00\n",
       "3     0 days 02:14:00\n",
       "4     0 days 02:29:00\n",
       "            ...      \n",
       "913   0 days 02:03:00\n",
       "914   0 days 01:22:00\n",
       "915   0 days 02:13:00\n",
       "916   0 days 01:38:00\n",
       "917   0 days 01:42:00\n",
       "Name: Movie Runtime, Length: 918, dtype: timedelta64[ns]"
      ]
     },
     "execution_count": 15,
     "metadata": {},
     "output_type": "execute_result"
    }
   ],
   "source": [
    "#Converting runtime from object to timedelta\n",
    "df['Movie Runtime'] = pd.to_timedelta(df['Movie Runtime'])\n",
    "df['Movie Runtime']"
   ]
  },
  {
   "cell_type": "markdown",
   "id": "d2eacee2",
   "metadata": {},
   "source": [
    "Now with movie runtime in a data type that can be further analyzed. For example I could take the mean over the entire column or I could look at each distributor and find their range of movie runtimes. "
   ]
  },
  {
   "cell_type": "code",
   "execution_count": 16,
   "id": "17bd60aa",
   "metadata": {},
   "outputs": [
    {
     "data": {
      "text/plain": [
       "Timedelta('0 days 01:56:34.248366013')"
      ]
     },
     "execution_count": 16,
     "metadata": {},
     "output_type": "execute_result"
    }
   ],
   "source": [
    "df['Movie Runtime'].mean()"
   ]
  },
  {
   "cell_type": "markdown",
   "id": "def413bd",
   "metadata": {},
   "source": [
    "Here we can see the average runtime across the entire dataframe is 1 hour and 56 minutes."
   ]
  },
  {
   "cell_type": "code",
   "execution_count": 17,
   "id": "1c70099f",
   "metadata": {},
   "outputs": [
    {
     "data": {
      "text/plain": [
       "0                      ['Action', 'Adventure', 'Sci-Fi']\n",
       "1             ['Action', 'Adventure', 'Drama', 'Sci-Fi']\n",
       "2           ['Action', 'Adventure', 'Fantasy', 'Sci-Fi']\n",
       "3                      ['Action', 'Adventure', 'Sci-Fi']\n",
       "4                      ['Action', 'Adventure', 'Sci-Fi']\n",
       "                             ...                        \n",
       "913                                 ['Drama', 'Romance']\n",
       "914    ['Action', 'Adventure', 'Animation', 'Comedy',...\n",
       "915                    ['Biography', 'Drama', 'Romance']\n",
       "916                                  ['Crime', 'Horror']\n",
       "917           ['Comedy', 'Family', 'Fantasy', 'Romance']\n",
       "Name: Genre, Length: 918, dtype: object"
      ]
     },
     "execution_count": 17,
     "metadata": {},
     "output_type": "execute_result"
    }
   ],
   "source": [
    "df['Genre']"
   ]
  },
  {
   "cell_type": "markdown",
   "id": "54fa6db4",
   "metadata": {},
   "source": [
    "Genre is a bit of a mess. Each movie can have multiple genres or just one. I will later seperate them in the analysis as doing so now might make the df a bit disorganized. "
   ]
  },
  {
   "cell_type": "code",
   "execution_count": 18,
   "id": "f2d9e389",
   "metadata": {},
   "outputs": [],
   "source": [
    "#Changing Release Date to datetime data type\n",
    "df['Release Date'] = pd.to_datetime(df['Release Date'])"
   ]
  },
  {
   "cell_type": "code",
   "execution_count": 19,
   "id": "f18de849",
   "metadata": {
    "scrolled": true
   },
   "outputs": [
    {
     "data": {
      "text/plain": [
       "0     2015-12-16\n",
       "1     2019-04-24\n",
       "2     2009-12-16\n",
       "3            NaT\n",
       "4            NaT\n",
       "         ...    \n",
       "913   2004-06-25\n",
       "914   2001-12-21\n",
       "915   2010-08-13\n",
       "916   2003-10-17\n",
       "917   2011-07-06\n",
       "Name: Release Date, Length: 918, dtype: datetime64[ns]"
      ]
     },
     "execution_count": 19,
     "metadata": {},
     "output_type": "execute_result"
    }
   ],
   "source": [
    "df['Release Date']"
   ]
  },
  {
   "cell_type": "markdown",
   "id": "8ba0335f",
   "metadata": {},
   "source": [
    "While this is a usable formate it doesn't fix my missing values. But I do have an interest in both analyzing years of movie release and month seperately. "
   ]
  },
  {
   "cell_type": "code",
   "execution_count": 20,
   "id": "718851ae",
   "metadata": {},
   "outputs": [],
   "source": [
    "df[\"Month\"] = df[\"Release Date\"].dt.month"
   ]
  },
  {
   "cell_type": "code",
   "execution_count": 21,
   "id": "ebaaba5a",
   "metadata": {
    "scrolled": true
   },
   "outputs": [
    {
     "data": {
      "text/plain": [
       "0      12.0\n",
       "1       4.0\n",
       "2      12.0\n",
       "3       NaN\n",
       "4       NaN\n",
       "       ... \n",
       "913     6.0\n",
       "914    12.0\n",
       "915     8.0\n",
       "916    10.0\n",
       "917     7.0\n",
       "Name: Month, Length: 918, dtype: float64"
      ]
     },
     "execution_count": 21,
     "metadata": {},
     "output_type": "execute_result"
    }
   ],
   "source": [
    "df['Month']"
   ]
  },
  {
   "cell_type": "markdown",
   "id": "876c371f",
   "metadata": {},
   "source": [
    "I could use this method for year but it would still return NaN values so instead I will get the year from the title."
   ]
  },
  {
   "cell_type": "code",
   "execution_count": 22,
   "id": "a9abda24",
   "metadata": {},
   "outputs": [],
   "source": [
    "#This will get the year from the title by slicing\n",
    "def ReleaseYear(df):\n",
    "    for i in df.index:\n",
    "        df.loc[i,'Release Year'] = df.loc[i,\"Title\"][-5:-1]"
   ]
  },
  {
   "cell_type": "code",
   "execution_count": 23,
   "id": "6cb47188",
   "metadata": {},
   "outputs": [],
   "source": [
    "ReleaseYear(df)"
   ]
  },
  {
   "cell_type": "code",
   "execution_count": 24,
   "id": "04dd704e",
   "metadata": {
    "scrolled": true
   },
   "outputs": [
    {
     "data": {
      "text/html": [
       "<div>\n",
       "<style scoped>\n",
       "    .dataframe tbody tr th:only-of-type {\n",
       "        vertical-align: middle;\n",
       "    }\n",
       "\n",
       "    .dataframe tbody tr th {\n",
       "        vertical-align: top;\n",
       "    }\n",
       "\n",
       "    .dataframe thead th {\n",
       "        text-align: right;\n",
       "    }\n",
       "</style>\n",
       "<table border=\"1\" class=\"dataframe\">\n",
       "  <thead>\n",
       "    <tr style=\"text-align: right;\">\n",
       "      <th></th>\n",
       "      <th>Title</th>\n",
       "      <th>Distributor</th>\n",
       "      <th>Release Date</th>\n",
       "      <th>Domestic Sales</th>\n",
       "      <th>International Sales</th>\n",
       "      <th>World Sales</th>\n",
       "      <th>Genre</th>\n",
       "      <th>Movie Runtime</th>\n",
       "      <th>License</th>\n",
       "      <th>Month</th>\n",
       "      <th>Release Year</th>\n",
       "    </tr>\n",
       "  </thead>\n",
       "  <tbody>\n",
       "    <tr>\n",
       "      <th>0</th>\n",
       "      <td>Star Wars: Episode VII - The Force Awakens (2015)</td>\n",
       "      <td>Walt Disney Studios Motion Pictures</td>\n",
       "      <td>2015-12-16</td>\n",
       "      <td>936662225</td>\n",
       "      <td>1132859475</td>\n",
       "      <td>2069521700</td>\n",
       "      <td>['Action', 'Adventure', 'Sci-Fi']</td>\n",
       "      <td>0 days 02:18:00</td>\n",
       "      <td>PG-13</td>\n",
       "      <td>12.0</td>\n",
       "      <td>2015</td>\n",
       "    </tr>\n",
       "    <tr>\n",
       "      <th>1</th>\n",
       "      <td>Avengers: Endgame (2019)</td>\n",
       "      <td>Walt Disney Studios Motion Pictures</td>\n",
       "      <td>2019-04-24</td>\n",
       "      <td>858373000</td>\n",
       "      <td>1939128328</td>\n",
       "      <td>2797501328</td>\n",
       "      <td>['Action', 'Adventure', 'Drama', 'Sci-Fi']</td>\n",
       "      <td>0 days 03:01:00</td>\n",
       "      <td>PG-13</td>\n",
       "      <td>4.0</td>\n",
       "      <td>2019</td>\n",
       "    </tr>\n",
       "    <tr>\n",
       "      <th>2</th>\n",
       "      <td>Avatar (2009)</td>\n",
       "      <td>Twentieth Century Fox</td>\n",
       "      <td>2009-12-16</td>\n",
       "      <td>760507625</td>\n",
       "      <td>2086738578</td>\n",
       "      <td>2847246203</td>\n",
       "      <td>['Action', 'Adventure', 'Fantasy', 'Sci-Fi']</td>\n",
       "      <td>0 days 02:42:00</td>\n",
       "      <td>PG-13</td>\n",
       "      <td>12.0</td>\n",
       "      <td>2009</td>\n",
       "    </tr>\n",
       "    <tr>\n",
       "      <th>3</th>\n",
       "      <td>Black Panther (2018)</td>\n",
       "      <td>Walt Disney Studios Motion Pictures</td>\n",
       "      <td>NaT</td>\n",
       "      <td>700426566</td>\n",
       "      <td>647171407</td>\n",
       "      <td>1347597973</td>\n",
       "      <td>['Action', 'Adventure', 'Sci-Fi']</td>\n",
       "      <td>0 days 02:14:00</td>\n",
       "      <td>NaN</td>\n",
       "      <td>NaN</td>\n",
       "      <td>2018</td>\n",
       "    </tr>\n",
       "    <tr>\n",
       "      <th>4</th>\n",
       "      <td>Avengers: Infinity War (2018)</td>\n",
       "      <td>Walt Disney Studios Motion Pictures</td>\n",
       "      <td>NaT</td>\n",
       "      <td>678815482</td>\n",
       "      <td>1369544272</td>\n",
       "      <td>2048359754</td>\n",
       "      <td>['Action', 'Adventure', 'Sci-Fi']</td>\n",
       "      <td>0 days 02:29:00</td>\n",
       "      <td>NaN</td>\n",
       "      <td>NaN</td>\n",
       "      <td>2018</td>\n",
       "    </tr>\n",
       "    <tr>\n",
       "      <th>...</th>\n",
       "      <td>...</td>\n",
       "      <td>...</td>\n",
       "      <td>...</td>\n",
       "      <td>...</td>\n",
       "      <td>...</td>\n",
       "      <td>...</td>\n",
       "      <td>...</td>\n",
       "      <td>...</td>\n",
       "      <td>...</td>\n",
       "      <td>...</td>\n",
       "      <td>...</td>\n",
       "    </tr>\n",
       "    <tr>\n",
       "      <th>913</th>\n",
       "      <td>The Notebook (2004)</td>\n",
       "      <td>New Line Cinema</td>\n",
       "      <td>2004-06-25</td>\n",
       "      <td>81001787</td>\n",
       "      <td>36813370</td>\n",
       "      <td>117815157</td>\n",
       "      <td>['Drama', 'Romance']</td>\n",
       "      <td>0 days 02:03:00</td>\n",
       "      <td>PG-13</td>\n",
       "      <td>6.0</td>\n",
       "      <td>2004</td>\n",
       "    </tr>\n",
       "    <tr>\n",
       "      <th>914</th>\n",
       "      <td>Jimmy Neutron: Boy Genius (2001)</td>\n",
       "      <td>Paramount Pictures</td>\n",
       "      <td>2001-12-21</td>\n",
       "      <td>80936232</td>\n",
       "      <td>22056304</td>\n",
       "      <td>102992536</td>\n",
       "      <td>['Action', 'Adventure', 'Animation', 'Comedy',...</td>\n",
       "      <td>0 days 01:22:00</td>\n",
       "      <td>NaN</td>\n",
       "      <td>12.0</td>\n",
       "      <td>2001</td>\n",
       "    </tr>\n",
       "    <tr>\n",
       "      <th>915</th>\n",
       "      <td>Eat Pray Love (2010)</td>\n",
       "      <td>Sony Pictures Entertainment (SPE)</td>\n",
       "      <td>2010-08-13</td>\n",
       "      <td>80574010</td>\n",
       "      <td>124020006</td>\n",
       "      <td>204594016</td>\n",
       "      <td>['Biography', 'Drama', 'Romance']</td>\n",
       "      <td>0 days 02:13:00</td>\n",
       "      <td>PG-13</td>\n",
       "      <td>8.0</td>\n",
       "      <td>2010</td>\n",
       "    </tr>\n",
       "    <tr>\n",
       "      <th>916</th>\n",
       "      <td>The Texas Chainsaw Massacre (2003)</td>\n",
       "      <td>New Line Cinema</td>\n",
       "      <td>2003-10-17</td>\n",
       "      <td>80571655</td>\n",
       "      <td>26792250</td>\n",
       "      <td>107363905</td>\n",
       "      <td>['Crime', 'Horror']</td>\n",
       "      <td>0 days 01:38:00</td>\n",
       "      <td>R</td>\n",
       "      <td>10.0</td>\n",
       "      <td>2003</td>\n",
       "    </tr>\n",
       "    <tr>\n",
       "      <th>917</th>\n",
       "      <td>Zookeeper (2011)</td>\n",
       "      <td>Sony Pictures Entertainment (SPE)</td>\n",
       "      <td>2011-07-06</td>\n",
       "      <td>80360843</td>\n",
       "      <td>89491916</td>\n",
       "      <td>169852759</td>\n",
       "      <td>['Comedy', 'Family', 'Fantasy', 'Romance']</td>\n",
       "      <td>0 days 01:42:00</td>\n",
       "      <td>PG</td>\n",
       "      <td>7.0</td>\n",
       "      <td>2011</td>\n",
       "    </tr>\n",
       "  </tbody>\n",
       "</table>\n",
       "<p>918 rows × 11 columns</p>\n",
       "</div>"
      ],
      "text/plain": [
       "                                                 Title  \\\n",
       "0    Star Wars: Episode VII - The Force Awakens (2015)   \n",
       "1                             Avengers: Endgame (2019)   \n",
       "2                                        Avatar (2009)   \n",
       "3                                 Black Panther (2018)   \n",
       "4                        Avengers: Infinity War (2018)   \n",
       "..                                                 ...   \n",
       "913                                The Notebook (2004)   \n",
       "914                   Jimmy Neutron: Boy Genius (2001)   \n",
       "915                               Eat Pray Love (2010)   \n",
       "916                 The Texas Chainsaw Massacre (2003)   \n",
       "917                                   Zookeeper (2011)   \n",
       "\n",
       "                             Distributor Release Date  Domestic Sales  \\\n",
       "0    Walt Disney Studios Motion Pictures   2015-12-16       936662225   \n",
       "1    Walt Disney Studios Motion Pictures   2019-04-24       858373000   \n",
       "2                  Twentieth Century Fox   2009-12-16       760507625   \n",
       "3    Walt Disney Studios Motion Pictures          NaT       700426566   \n",
       "4    Walt Disney Studios Motion Pictures          NaT       678815482   \n",
       "..                                   ...          ...             ...   \n",
       "913                      New Line Cinema   2004-06-25        81001787   \n",
       "914                   Paramount Pictures   2001-12-21        80936232   \n",
       "915    Sony Pictures Entertainment (SPE)   2010-08-13        80574010   \n",
       "916                      New Line Cinema   2003-10-17        80571655   \n",
       "917    Sony Pictures Entertainment (SPE)   2011-07-06        80360843   \n",
       "\n",
       "     International Sales  World Sales  \\\n",
       "0             1132859475   2069521700   \n",
       "1             1939128328   2797501328   \n",
       "2             2086738578   2847246203   \n",
       "3              647171407   1347597973   \n",
       "4             1369544272   2048359754   \n",
       "..                   ...          ...   \n",
       "913             36813370    117815157   \n",
       "914             22056304    102992536   \n",
       "915            124020006    204594016   \n",
       "916             26792250    107363905   \n",
       "917             89491916    169852759   \n",
       "\n",
       "                                                 Genre   Movie Runtime  \\\n",
       "0                    ['Action', 'Adventure', 'Sci-Fi'] 0 days 02:18:00   \n",
       "1           ['Action', 'Adventure', 'Drama', 'Sci-Fi'] 0 days 03:01:00   \n",
       "2         ['Action', 'Adventure', 'Fantasy', 'Sci-Fi'] 0 days 02:42:00   \n",
       "3                    ['Action', 'Adventure', 'Sci-Fi'] 0 days 02:14:00   \n",
       "4                    ['Action', 'Adventure', 'Sci-Fi'] 0 days 02:29:00   \n",
       "..                                                 ...             ...   \n",
       "913                               ['Drama', 'Romance'] 0 days 02:03:00   \n",
       "914  ['Action', 'Adventure', 'Animation', 'Comedy',... 0 days 01:22:00   \n",
       "915                  ['Biography', 'Drama', 'Romance'] 0 days 02:13:00   \n",
       "916                                ['Crime', 'Horror'] 0 days 01:38:00   \n",
       "917         ['Comedy', 'Family', 'Fantasy', 'Romance'] 0 days 01:42:00   \n",
       "\n",
       "    License  Month Release Year  \n",
       "0     PG-13   12.0         2015  \n",
       "1     PG-13    4.0         2019  \n",
       "2     PG-13   12.0         2009  \n",
       "3       NaN    NaN         2018  \n",
       "4       NaN    NaN         2018  \n",
       "..      ...    ...          ...  \n",
       "913   PG-13    6.0         2004  \n",
       "914     NaN   12.0         2001  \n",
       "915   PG-13    8.0         2010  \n",
       "916       R   10.0         2003  \n",
       "917      PG    7.0         2011  \n",
       "\n",
       "[918 rows x 11 columns]"
      ]
     },
     "execution_count": 24,
     "metadata": {},
     "output_type": "execute_result"
    }
   ],
   "source": [
    "df"
   ]
  },
  {
   "cell_type": "code",
   "execution_count": 25,
   "id": "f2e1c8a8",
   "metadata": {
    "scrolled": false
   },
   "outputs": [
    {
     "data": {
      "text/plain": [
       "0"
      ]
     },
     "execution_count": 25,
     "metadata": {},
     "output_type": "execute_result"
    }
   ],
   "source": [
    "df['Release Year'].isnull().sum()"
   ]
  },
  {
   "cell_type": "code",
   "execution_count": 26,
   "id": "09bc85c2",
   "metadata": {
    "scrolled": true
   },
   "outputs": [
    {
     "data": {
      "text/plain": [
       "array(['2015', '2019', '2009', '2018', '2021', '1997', '2012', '2017',\n",
       "       '2008', '2016', '1999', '1977', '2004', '1982', '2013', '2006',\n",
       "       '1994', '2010', '2002', '1993', '2011', '2003', '2005', '2014',\n",
       "       '2007', '2001', '1983', '1996', '1980', '1990', '1975', '2000',\n",
       "       '1989', '1981', '1984', '1973', '1991', '1992', '1998', '1985',\n",
       "       '2020', '1978', '1937', '1995', '1988', '1987', '1986', '1972',\n",
       "       '1955', '1953', '1979', '1970'], dtype=object)"
      ]
     },
     "execution_count": 26,
     "metadata": {},
     "output_type": "execute_result"
    }
   ],
   "source": [
    "df['Release Year'].unique()"
   ]
  },
  {
   "cell_type": "markdown",
   "id": "cfc9ad79",
   "metadata": {},
   "source": [
    "Now I have a column that includes the year and has no null values. This will make graphing by year easier later on."
   ]
  },
  {
   "cell_type": "code",
   "execution_count": 27,
   "id": "0a0ba4c4",
   "metadata": {
    "scrolled": true
   },
   "outputs": [
    {
     "data": {
      "text/html": [
       "<div>\n",
       "<style scoped>\n",
       "    .dataframe tbody tr th:only-of-type {\n",
       "        vertical-align: middle;\n",
       "    }\n",
       "\n",
       "    .dataframe tbody tr th {\n",
       "        vertical-align: top;\n",
       "    }\n",
       "\n",
       "    .dataframe thead th {\n",
       "        text-align: right;\n",
       "    }\n",
       "</style>\n",
       "<table border=\"1\" class=\"dataframe\">\n",
       "  <thead>\n",
       "    <tr style=\"text-align: right;\">\n",
       "      <th></th>\n",
       "      <th>Title</th>\n",
       "      <th>World Sales</th>\n",
       "      <th>World Sales Added</th>\n",
       "      <th>Is it equal?</th>\n",
       "    </tr>\n",
       "  </thead>\n",
       "  <tbody>\n",
       "    <tr>\n",
       "      <th>0</th>\n",
       "      <td>Star Wars: Episode VII - The Force Awakens (2015)</td>\n",
       "      <td>2069521700</td>\n",
       "      <td>2069521700</td>\n",
       "      <td>True</td>\n",
       "    </tr>\n",
       "    <tr>\n",
       "      <th>1</th>\n",
       "      <td>Avengers: Endgame (2019)</td>\n",
       "      <td>2797501328</td>\n",
       "      <td>2797501328</td>\n",
       "      <td>True</td>\n",
       "    </tr>\n",
       "    <tr>\n",
       "      <th>2</th>\n",
       "      <td>Avatar (2009)</td>\n",
       "      <td>2847246203</td>\n",
       "      <td>2847246203</td>\n",
       "      <td>True</td>\n",
       "    </tr>\n",
       "    <tr>\n",
       "      <th>3</th>\n",
       "      <td>Black Panther (2018)</td>\n",
       "      <td>1347597973</td>\n",
       "      <td>1347597973</td>\n",
       "      <td>True</td>\n",
       "    </tr>\n",
       "    <tr>\n",
       "      <th>4</th>\n",
       "      <td>Avengers: Infinity War (2018)</td>\n",
       "      <td>2048359754</td>\n",
       "      <td>2048359754</td>\n",
       "      <td>True</td>\n",
       "    </tr>\n",
       "  </tbody>\n",
       "</table>\n",
       "</div>"
      ],
      "text/plain": [
       "                                               Title  World Sales  \\\n",
       "0  Star Wars: Episode VII - The Force Awakens (2015)   2069521700   \n",
       "1                           Avengers: Endgame (2019)   2797501328   \n",
       "2                                      Avatar (2009)   2847246203   \n",
       "3                               Black Panther (2018)   1347597973   \n",
       "4                      Avengers: Infinity War (2018)   2048359754   \n",
       "\n",
       "   World Sales Added  Is it equal?  \n",
       "0         2069521700          True  \n",
       "1         2797501328          True  \n",
       "2         2847246203          True  \n",
       "3         1347597973          True  \n",
       "4         2048359754          True  "
      ]
     },
     "execution_count": 27,
     "metadata": {},
     "output_type": "execute_result"
    }
   ],
   "source": [
    "# Checking if world sales is accurate\n",
    "df['World Sales Added'] = df['Domestic Sales'] + df['International Sales']\n",
    "df['Is it equal?'] = df['World Sales Added'] == df['World Sales']\n",
    "df[['Title','World Sales','World Sales Added','Is it equal?']].head()"
   ]
  },
  {
   "cell_type": "code",
   "execution_count": 28,
   "id": "2dd1b0ef",
   "metadata": {},
   "outputs": [
    {
     "data": {
      "text/plain": [
       "True     889\n",
       "False     29\n",
       "Name: Is it equal?, dtype: int64"
      ]
     },
     "execution_count": 28,
     "metadata": {},
     "output_type": "execute_result"
    }
   ],
   "source": [
    "df['Is it equal?'].value_counts()"
   ]
  },
  {
   "cell_type": "markdown",
   "id": "40802510",
   "metadata": {},
   "source": [
    "This shows discrepancies in the data. Not much I can do here with this. I would need the correct numbers for each of the 29 movies. Was more curious if there was any errors. I can check if the range is wide enough to change the order of the movies but I think for the overall EDA this wouldn't change much."
   ]
  },
  {
   "cell_type": "code",
   "execution_count": 29,
   "id": "48512059",
   "metadata": {
    "scrolled": true
   },
   "outputs": [
    {
     "data": {
      "text/plain": [
       "array(['20th Century Studios', 'Artisan Entertainment',\n",
       "       'Columbia Pictures', 'Dimension Films', 'DreamWorks',\n",
       "       'DreamWorks Distribution', 'FilmDistrict', 'Focus Features',\n",
       "       'Fox Searchlight Pictures', 'IFC Films', 'Lionsgate',\n",
       "       'Metro-Goldwyn-Mayer (MGM)', 'Miramax', 'New Line Cinema',\n",
       "       'Newmarket Films', 'Orion Pictures', 'Paramount Pictures',\n",
       "       'Relativity Media', 'Revolution Studios', 'Roadside Attractions',\n",
       "       'STX Entertainment', 'Screen Gems', 'Sony Pictures Classics',\n",
       "       'Sony Pictures Entertainment (SPE)', 'Summit Entertainment',\n",
       "       'The Weinstein Company', 'TriStar Pictures',\n",
       "       'Twentieth Century Fox', 'USA Films', 'United Artists',\n",
       "       'United Artists Releasing', 'Universal Pictures',\n",
       "       'Walt Disney Studios Motion Pictures', 'Warner Bros.'],\n",
       "      dtype=object)"
      ]
     },
     "execution_count": 29,
     "metadata": {},
     "output_type": "execute_result"
    }
   ],
   "source": [
    "# Names of each Distributor\n",
    "df.sort_values('Distributor', inplace = True)\n",
    "df.Distributor.unique()"
   ]
  },
  {
   "cell_type": "markdown",
   "id": "0ec454ea",
   "metadata": {},
   "source": [
    "We can see that the same studios appear twice with just slightly different names(DreamWorks, Sony, and United Artists). Also If I wanted to be nitpicky I could argue that 20th Century Studio and Fox Searchlight are the same studio since Disney bought them. But doing all that would realistically leave about 10 distributors."
   ]
  },
  {
   "cell_type": "code",
   "execution_count": 30,
   "id": "39d23a40",
   "metadata": {
    "scrolled": true
   },
   "outputs": [
    {
     "data": {
      "text/html": [
       "<div>\n",
       "<style scoped>\n",
       "    .dataframe tbody tr th:only-of-type {\n",
       "        vertical-align: middle;\n",
       "    }\n",
       "\n",
       "    .dataframe tbody tr th {\n",
       "        vertical-align: top;\n",
       "    }\n",
       "\n",
       "    .dataframe thead th {\n",
       "        text-align: right;\n",
       "    }\n",
       "</style>\n",
       "<table border=\"1\" class=\"dataframe\">\n",
       "  <thead>\n",
       "    <tr style=\"text-align: right;\">\n",
       "      <th></th>\n",
       "      <th>Title</th>\n",
       "      <th>Distributor</th>\n",
       "      <th>Release Date</th>\n",
       "      <th>Domestic Sales</th>\n",
       "      <th>International Sales</th>\n",
       "      <th>World Sales</th>\n",
       "      <th>Genre</th>\n",
       "      <th>Movie Runtime</th>\n",
       "      <th>License</th>\n",
       "      <th>Month</th>\n",
       "      <th>Release Year</th>\n",
       "      <th>World Sales Added</th>\n",
       "      <th>Is it equal?</th>\n",
       "    </tr>\n",
       "  </thead>\n",
       "  <tbody>\n",
       "    <tr>\n",
       "      <th>480</th>\n",
       "      <td>Crouching Tiger, Hidden Dragon (2000)</td>\n",
       "      <td>Sony Pictures Classics</td>\n",
       "      <td>2000-12-08</td>\n",
       "      <td>128078872</td>\n",
       "      <td>85446864</td>\n",
       "      <td>213525736</td>\n",
       "      <td>['Action', 'Adventure', 'Drama', 'Fantasy', 'R...</td>\n",
       "      <td>0 days 02:00:00</td>\n",
       "      <td>PG-13</td>\n",
       "      <td>12.0</td>\n",
       "      <td>2000</td>\n",
       "      <td>213525736</td>\n",
       "      <td>True</td>\n",
       "    </tr>\n",
       "  </tbody>\n",
       "</table>\n",
       "</div>"
      ],
      "text/plain": [
       "                                     Title             Distributor  \\\n",
       "480  Crouching Tiger, Hidden Dragon (2000)  Sony Pictures Classics   \n",
       "\n",
       "    Release Date  Domestic Sales  International Sales  World Sales  \\\n",
       "480   2000-12-08       128078872             85446864    213525736   \n",
       "\n",
       "                                                 Genre   Movie Runtime  \\\n",
       "480  ['Action', 'Adventure', 'Drama', 'Fantasy', 'R... 0 days 02:00:00   \n",
       "\n",
       "    License  Month Release Year  World Sales Added  Is it equal?  \n",
       "480   PG-13   12.0         2000          213525736          True  "
      ]
     },
     "execution_count": 30,
     "metadata": {},
     "output_type": "execute_result"
    }
   ],
   "source": [
    "df[df['Distributor'] == 'Sony Pictures Classics'].head()"
   ]
  },
  {
   "cell_type": "code",
   "execution_count": 31,
   "id": "202135b5",
   "metadata": {
    "scrolled": false
   },
   "outputs": [
    {
     "data": {
      "text/html": [
       "<div>\n",
       "<style scoped>\n",
       "    .dataframe tbody tr th:only-of-type {\n",
       "        vertical-align: middle;\n",
       "    }\n",
       "\n",
       "    .dataframe tbody tr th {\n",
       "        vertical-align: top;\n",
       "    }\n",
       "\n",
       "    .dataframe thead th {\n",
       "        text-align: right;\n",
       "    }\n",
       "</style>\n",
       "<table border=\"1\" class=\"dataframe\">\n",
       "  <thead>\n",
       "    <tr style=\"text-align: right;\">\n",
       "      <th></th>\n",
       "      <th>Title</th>\n",
       "      <th>Distributor</th>\n",
       "      <th>Release Date</th>\n",
       "      <th>Domestic Sales</th>\n",
       "      <th>International Sales</th>\n",
       "      <th>World Sales</th>\n",
       "      <th>Genre</th>\n",
       "      <th>Movie Runtime</th>\n",
       "      <th>License</th>\n",
       "      <th>Month</th>\n",
       "      <th>Release Year</th>\n",
       "      <th>World Sales Added</th>\n",
       "      <th>Is it equal?</th>\n",
       "    </tr>\n",
       "  </thead>\n",
       "  <tbody>\n",
       "    <tr>\n",
       "      <th>514</th>\n",
       "      <td>Cloudy with a Chance of Meatballs (2009)</td>\n",
       "      <td>Sony Pictures Entertainment (SPE)</td>\n",
       "      <td>2009-09-16</td>\n",
       "      <td>124870275</td>\n",
       "      <td>118135851</td>\n",
       "      <td>243006126</td>\n",
       "      <td>['Adventure', 'Animation', 'Comedy', 'Drama', ...</td>\n",
       "      <td>0 days 01:30:00</td>\n",
       "      <td>PG</td>\n",
       "      <td>9.0</td>\n",
       "      <td>2009</td>\n",
       "      <td>243006126</td>\n",
       "      <td>True</td>\n",
       "    </tr>\n",
       "    <tr>\n",
       "      <th>610</th>\n",
       "      <td>Fun with Dick and Jane (2005)</td>\n",
       "      <td>Sony Pictures Entertainment (SPE)</td>\n",
       "      <td>2005-12-21</td>\n",
       "      <td>110332737</td>\n",
       "      <td>94349162</td>\n",
       "      <td>204681899</td>\n",
       "      <td>['Comedy', 'Crime']</td>\n",
       "      <td>0 days 01:30:00</td>\n",
       "      <td>PG-13</td>\n",
       "      <td>12.0</td>\n",
       "      <td>2005</td>\n",
       "      <td>204681899</td>\n",
       "      <td>True</td>\n",
       "    </tr>\n",
       "    <tr>\n",
       "      <th>544</th>\n",
       "      <td>Total Recall (1990)</td>\n",
       "      <td>Sony Pictures Entertainment (SPE)</td>\n",
       "      <td>1990-06-01</td>\n",
       "      <td>119412921</td>\n",
       "      <td>141905000</td>\n",
       "      <td>261317921</td>\n",
       "      <td>['Action', 'Adventure', 'Sci-Fi']</td>\n",
       "      <td>0 days 01:53:00</td>\n",
       "      <td>NaN</td>\n",
       "      <td>6.0</td>\n",
       "      <td>1990</td>\n",
       "      <td>261317921</td>\n",
       "      <td>True</td>\n",
       "    </tr>\n",
       "    <tr>\n",
       "      <th>312</th>\n",
       "      <td>2012 (2009)</td>\n",
       "      <td>Sony Pictures Entertainment (SPE)</td>\n",
       "      <td>2009-11-11</td>\n",
       "      <td>166112167</td>\n",
       "      <td>625105659</td>\n",
       "      <td>791217826</td>\n",
       "      <td>['Action', 'Adventure', 'Sci-Fi']</td>\n",
       "      <td>0 days 02:38:00</td>\n",
       "      <td>PG-13</td>\n",
       "      <td>11.0</td>\n",
       "      <td>2009</td>\n",
       "      <td>791217826</td>\n",
       "      <td>True</td>\n",
       "    </tr>\n",
       "    <tr>\n",
       "      <th>506</th>\n",
       "      <td>Charlie's Angels (2000)</td>\n",
       "      <td>Sony Pictures Entertainment (SPE)</td>\n",
       "      <td>2000-11-03</td>\n",
       "      <td>125305545</td>\n",
       "      <td>138800000</td>\n",
       "      <td>264105545</td>\n",
       "      <td>['Action', 'Adventure', 'Comedy', 'Crime', 'Th...</td>\n",
       "      <td>0 days 01:38:00</td>\n",
       "      <td>PG-13</td>\n",
       "      <td>11.0</td>\n",
       "      <td>2000</td>\n",
       "      <td>264105545</td>\n",
       "      <td>True</td>\n",
       "    </tr>\n",
       "  </tbody>\n",
       "</table>\n",
       "</div>"
      ],
      "text/plain": [
       "                                        Title  \\\n",
       "514  Cloudy with a Chance of Meatballs (2009)   \n",
       "610             Fun with Dick and Jane (2005)   \n",
       "544                       Total Recall (1990)   \n",
       "312                               2012 (2009)   \n",
       "506                   Charlie's Angels (2000)   \n",
       "\n",
       "                           Distributor Release Date  Domestic Sales  \\\n",
       "514  Sony Pictures Entertainment (SPE)   2009-09-16       124870275   \n",
       "610  Sony Pictures Entertainment (SPE)   2005-12-21       110332737   \n",
       "544  Sony Pictures Entertainment (SPE)   1990-06-01       119412921   \n",
       "312  Sony Pictures Entertainment (SPE)   2009-11-11       166112167   \n",
       "506  Sony Pictures Entertainment (SPE)   2000-11-03       125305545   \n",
       "\n",
       "     International Sales  World Sales  \\\n",
       "514            118135851    243006126   \n",
       "610             94349162    204681899   \n",
       "544            141905000    261317921   \n",
       "312            625105659    791217826   \n",
       "506            138800000    264105545   \n",
       "\n",
       "                                                 Genre   Movie Runtime  \\\n",
       "514  ['Adventure', 'Animation', 'Comedy', 'Drama', ... 0 days 01:30:00   \n",
       "610                                ['Comedy', 'Crime'] 0 days 01:30:00   \n",
       "544                  ['Action', 'Adventure', 'Sci-Fi'] 0 days 01:53:00   \n",
       "312                  ['Action', 'Adventure', 'Sci-Fi'] 0 days 02:38:00   \n",
       "506  ['Action', 'Adventure', 'Comedy', 'Crime', 'Th... 0 days 01:38:00   \n",
       "\n",
       "    License  Month Release Year  World Sales Added  Is it equal?  \n",
       "514      PG    9.0         2009          243006126          True  \n",
       "610   PG-13   12.0         2005          204681899          True  \n",
       "544     NaN    6.0         1990          261317921          True  \n",
       "312   PG-13   11.0         2009          791217826          True  \n",
       "506   PG-13   11.0         2000          264105545          True  "
      ]
     },
     "execution_count": 31,
     "metadata": {},
     "output_type": "execute_result"
    }
   ],
   "source": [
    "df[df['Distributor'] == 'Sony Pictures Entertainment (SPE)'].head()"
   ]
  },
  {
   "cell_type": "markdown",
   "id": "974d831d",
   "metadata": {},
   "source": [
    "I wanted to double check that movies weren't duplicated by Distributor. Even though that would have been present when I ran df.nunique()"
   ]
  },
  {
   "cell_type": "code",
   "execution_count": 32,
   "id": "4d828c6f",
   "metadata": {
    "scrolled": false
   },
   "outputs": [
    {
     "data": {
      "text/plain": [
       "array(['20th Century Studios', 'Artisan Entertainment',\n",
       "       'Columbia Pictures', 'Dimension Films', 'DreamWorks',\n",
       "       'FilmDistrict', 'Focus Features', 'Fox Searchlight Pictures',\n",
       "       'IFC Films', 'Lionsgate', 'Metro-Goldwyn-Mayer (MGM)', 'Miramax',\n",
       "       'New Line Cinema', 'Newmarket Films', 'Orion Pictures',\n",
       "       'Paramount Pictures', 'Relativity Media', 'Revolution Studios',\n",
       "       'Roadside Attractions', 'STX Entertainment', 'Screen Gems',\n",
       "       'Sony Pictures Entertainment', 'Summit Entertainment',\n",
       "       'The Weinstein Company', 'TriStar Pictures',\n",
       "       'Twentieth Century Fox', 'USA Films', 'United Artists',\n",
       "       'Universal Pictures', 'Walt Disney Studios Motion Pictures',\n",
       "       'Warner Bros.'], dtype=object)"
      ]
     },
     "execution_count": 32,
     "metadata": {},
     "output_type": "execute_result"
    }
   ],
   "source": [
    "#Changing the names of some distributors for simplifaction\n",
    "df.loc[df.Distributor == 'DreamWorks Distribution', 'Distributor'] = 'DreamWorks' \n",
    "df.loc[df.Distributor == 'United Artists Releasing', 'Distributor'] = 'United Artists' \n",
    "df.loc[df.Distributor == 'Sony Pictures Classics', 'Distributor'] = 'Sony Pictures Entertainment' \n",
    "df.loc[df.Distributor == 'Sony Pictures Entertainment (SPE)', 'Distributor'] = 'Sony Pictures Entertainment'\n",
    "\n",
    "df.Distributor.unique()"
   ]
  },
  {
   "cell_type": "code",
   "execution_count": 33,
   "id": "c8a59dbd",
   "metadata": {
    "scrolled": true
   },
   "outputs": [
    {
     "data": {
      "text/html": [
       "<div>\n",
       "<style scoped>\n",
       "    .dataframe tbody tr th:only-of-type {\n",
       "        vertical-align: middle;\n",
       "    }\n",
       "\n",
       "    .dataframe tbody tr th {\n",
       "        vertical-align: top;\n",
       "    }\n",
       "\n",
       "    .dataframe thead th {\n",
       "        text-align: right;\n",
       "    }\n",
       "</style>\n",
       "<table border=\"1\" class=\"dataframe\">\n",
       "  <thead>\n",
       "    <tr style=\"text-align: right;\">\n",
       "      <th></th>\n",
       "      <th>Title</th>\n",
       "      <th>Distributor</th>\n",
       "      <th>Release Date</th>\n",
       "      <th>Domestic Sales</th>\n",
       "      <th>International Sales</th>\n",
       "      <th>World Sales</th>\n",
       "      <th>Genre</th>\n",
       "      <th>Movie Runtime</th>\n",
       "      <th>License</th>\n",
       "      <th>Month</th>\n",
       "      <th>Release Year</th>\n",
       "      <th>World Sales Added</th>\n",
       "      <th>Is it equal?</th>\n",
       "    </tr>\n",
       "  </thead>\n",
       "  <tbody>\n",
       "    <tr>\n",
       "      <th>0</th>\n",
       "      <td>Star Wars: Episode VII - The Force Awakens (2015)</td>\n",
       "      <td>Walt Disney Studios Motion Pictures</td>\n",
       "      <td>2015-12-16</td>\n",
       "      <td>936662225</td>\n",
       "      <td>1132859475</td>\n",
       "      <td>2069521700</td>\n",
       "      <td>['Action', 'Adventure', 'Sci-Fi']</td>\n",
       "      <td>0 days 02:18:00</td>\n",
       "      <td>PG-13</td>\n",
       "      <td>12.0</td>\n",
       "      <td>2015</td>\n",
       "      <td>2069521700</td>\n",
       "      <td>True</td>\n",
       "    </tr>\n",
       "    <tr>\n",
       "      <th>1</th>\n",
       "      <td>Avengers: Endgame (2019)</td>\n",
       "      <td>Walt Disney Studios Motion Pictures</td>\n",
       "      <td>2019-04-24</td>\n",
       "      <td>858373000</td>\n",
       "      <td>1939128328</td>\n",
       "      <td>2797501328</td>\n",
       "      <td>['Action', 'Adventure', 'Drama', 'Sci-Fi']</td>\n",
       "      <td>0 days 03:01:00</td>\n",
       "      <td>PG-13</td>\n",
       "      <td>4.0</td>\n",
       "      <td>2019</td>\n",
       "      <td>2797501328</td>\n",
       "      <td>True</td>\n",
       "    </tr>\n",
       "    <tr>\n",
       "      <th>2</th>\n",
       "      <td>Avatar (2009)</td>\n",
       "      <td>Twentieth Century Fox</td>\n",
       "      <td>2009-12-16</td>\n",
       "      <td>760507625</td>\n",
       "      <td>2086738578</td>\n",
       "      <td>2847246203</td>\n",
       "      <td>['Action', 'Adventure', 'Fantasy', 'Sci-Fi']</td>\n",
       "      <td>0 days 02:42:00</td>\n",
       "      <td>PG-13</td>\n",
       "      <td>12.0</td>\n",
       "      <td>2009</td>\n",
       "      <td>2847246203</td>\n",
       "      <td>True</td>\n",
       "    </tr>\n",
       "    <tr>\n",
       "      <th>3</th>\n",
       "      <td>Black Panther (2018)</td>\n",
       "      <td>Walt Disney Studios Motion Pictures</td>\n",
       "      <td>NaT</td>\n",
       "      <td>700426566</td>\n",
       "      <td>647171407</td>\n",
       "      <td>1347597973</td>\n",
       "      <td>['Action', 'Adventure', 'Sci-Fi']</td>\n",
       "      <td>0 days 02:14:00</td>\n",
       "      <td>NaN</td>\n",
       "      <td>NaN</td>\n",
       "      <td>2018</td>\n",
       "      <td>1347597973</td>\n",
       "      <td>True</td>\n",
       "    </tr>\n",
       "    <tr>\n",
       "      <th>4</th>\n",
       "      <td>Avengers: Infinity War (2018)</td>\n",
       "      <td>Walt Disney Studios Motion Pictures</td>\n",
       "      <td>NaT</td>\n",
       "      <td>678815482</td>\n",
       "      <td>1369544272</td>\n",
       "      <td>2048359754</td>\n",
       "      <td>['Action', 'Adventure', 'Sci-Fi']</td>\n",
       "      <td>0 days 02:29:00</td>\n",
       "      <td>NaN</td>\n",
       "      <td>NaN</td>\n",
       "      <td>2018</td>\n",
       "      <td>2048359754</td>\n",
       "      <td>True</td>\n",
       "    </tr>\n",
       "    <tr>\n",
       "      <th>...</th>\n",
       "      <td>...</td>\n",
       "      <td>...</td>\n",
       "      <td>...</td>\n",
       "      <td>...</td>\n",
       "      <td>...</td>\n",
       "      <td>...</td>\n",
       "      <td>...</td>\n",
       "      <td>...</td>\n",
       "      <td>...</td>\n",
       "      <td>...</td>\n",
       "      <td>...</td>\n",
       "      <td>...</td>\n",
       "      <td>...</td>\n",
       "    </tr>\n",
       "    <tr>\n",
       "      <th>913</th>\n",
       "      <td>The Notebook (2004)</td>\n",
       "      <td>New Line Cinema</td>\n",
       "      <td>2004-06-25</td>\n",
       "      <td>81001787</td>\n",
       "      <td>36813370</td>\n",
       "      <td>117815157</td>\n",
       "      <td>['Drama', 'Romance']</td>\n",
       "      <td>0 days 02:03:00</td>\n",
       "      <td>PG-13</td>\n",
       "      <td>6.0</td>\n",
       "      <td>2004</td>\n",
       "      <td>117815157</td>\n",
       "      <td>True</td>\n",
       "    </tr>\n",
       "    <tr>\n",
       "      <th>914</th>\n",
       "      <td>Jimmy Neutron: Boy Genius (2001)</td>\n",
       "      <td>Paramount Pictures</td>\n",
       "      <td>2001-12-21</td>\n",
       "      <td>80936232</td>\n",
       "      <td>22056304</td>\n",
       "      <td>102992536</td>\n",
       "      <td>['Action', 'Adventure', 'Animation', 'Comedy',...</td>\n",
       "      <td>0 days 01:22:00</td>\n",
       "      <td>NaN</td>\n",
       "      <td>12.0</td>\n",
       "      <td>2001</td>\n",
       "      <td>102992536</td>\n",
       "      <td>True</td>\n",
       "    </tr>\n",
       "    <tr>\n",
       "      <th>915</th>\n",
       "      <td>Eat Pray Love (2010)</td>\n",
       "      <td>Sony Pictures Entertainment</td>\n",
       "      <td>2010-08-13</td>\n",
       "      <td>80574010</td>\n",
       "      <td>124020006</td>\n",
       "      <td>204594016</td>\n",
       "      <td>['Biography', 'Drama', 'Romance']</td>\n",
       "      <td>0 days 02:13:00</td>\n",
       "      <td>PG-13</td>\n",
       "      <td>8.0</td>\n",
       "      <td>2010</td>\n",
       "      <td>204594016</td>\n",
       "      <td>True</td>\n",
       "    </tr>\n",
       "    <tr>\n",
       "      <th>916</th>\n",
       "      <td>The Texas Chainsaw Massacre (2003)</td>\n",
       "      <td>New Line Cinema</td>\n",
       "      <td>2003-10-17</td>\n",
       "      <td>80571655</td>\n",
       "      <td>26792250</td>\n",
       "      <td>107363905</td>\n",
       "      <td>['Crime', 'Horror']</td>\n",
       "      <td>0 days 01:38:00</td>\n",
       "      <td>R</td>\n",
       "      <td>10.0</td>\n",
       "      <td>2003</td>\n",
       "      <td>107363905</td>\n",
       "      <td>True</td>\n",
       "    </tr>\n",
       "    <tr>\n",
       "      <th>917</th>\n",
       "      <td>Zookeeper (2011)</td>\n",
       "      <td>Sony Pictures Entertainment</td>\n",
       "      <td>2011-07-06</td>\n",
       "      <td>80360843</td>\n",
       "      <td>89491916</td>\n",
       "      <td>169852759</td>\n",
       "      <td>['Comedy', 'Family', 'Fantasy', 'Romance']</td>\n",
       "      <td>0 days 01:42:00</td>\n",
       "      <td>PG</td>\n",
       "      <td>7.0</td>\n",
       "      <td>2011</td>\n",
       "      <td>169852759</td>\n",
       "      <td>True</td>\n",
       "    </tr>\n",
       "  </tbody>\n",
       "</table>\n",
       "<p>918 rows × 13 columns</p>\n",
       "</div>"
      ],
      "text/plain": [
       "                                                 Title  \\\n",
       "0    Star Wars: Episode VII - The Force Awakens (2015)   \n",
       "1                             Avengers: Endgame (2019)   \n",
       "2                                        Avatar (2009)   \n",
       "3                                 Black Panther (2018)   \n",
       "4                        Avengers: Infinity War (2018)   \n",
       "..                                                 ...   \n",
       "913                                The Notebook (2004)   \n",
       "914                   Jimmy Neutron: Boy Genius (2001)   \n",
       "915                               Eat Pray Love (2010)   \n",
       "916                 The Texas Chainsaw Massacre (2003)   \n",
       "917                                   Zookeeper (2011)   \n",
       "\n",
       "                             Distributor Release Date  Domestic Sales  \\\n",
       "0    Walt Disney Studios Motion Pictures   2015-12-16       936662225   \n",
       "1    Walt Disney Studios Motion Pictures   2019-04-24       858373000   \n",
       "2                  Twentieth Century Fox   2009-12-16       760507625   \n",
       "3    Walt Disney Studios Motion Pictures          NaT       700426566   \n",
       "4    Walt Disney Studios Motion Pictures          NaT       678815482   \n",
       "..                                   ...          ...             ...   \n",
       "913                      New Line Cinema   2004-06-25        81001787   \n",
       "914                   Paramount Pictures   2001-12-21        80936232   \n",
       "915          Sony Pictures Entertainment   2010-08-13        80574010   \n",
       "916                      New Line Cinema   2003-10-17        80571655   \n",
       "917          Sony Pictures Entertainment   2011-07-06        80360843   \n",
       "\n",
       "     International Sales  World Sales  \\\n",
       "0             1132859475   2069521700   \n",
       "1             1939128328   2797501328   \n",
       "2             2086738578   2847246203   \n",
       "3              647171407   1347597973   \n",
       "4             1369544272   2048359754   \n",
       "..                   ...          ...   \n",
       "913             36813370    117815157   \n",
       "914             22056304    102992536   \n",
       "915            124020006    204594016   \n",
       "916             26792250    107363905   \n",
       "917             89491916    169852759   \n",
       "\n",
       "                                                 Genre   Movie Runtime  \\\n",
       "0                    ['Action', 'Adventure', 'Sci-Fi'] 0 days 02:18:00   \n",
       "1           ['Action', 'Adventure', 'Drama', 'Sci-Fi'] 0 days 03:01:00   \n",
       "2         ['Action', 'Adventure', 'Fantasy', 'Sci-Fi'] 0 days 02:42:00   \n",
       "3                    ['Action', 'Adventure', 'Sci-Fi'] 0 days 02:14:00   \n",
       "4                    ['Action', 'Adventure', 'Sci-Fi'] 0 days 02:29:00   \n",
       "..                                                 ...             ...   \n",
       "913                               ['Drama', 'Romance'] 0 days 02:03:00   \n",
       "914  ['Action', 'Adventure', 'Animation', 'Comedy',... 0 days 01:22:00   \n",
       "915                  ['Biography', 'Drama', 'Romance'] 0 days 02:13:00   \n",
       "916                                ['Crime', 'Horror'] 0 days 01:38:00   \n",
       "917         ['Comedy', 'Family', 'Fantasy', 'Romance'] 0 days 01:42:00   \n",
       "\n",
       "    License  Month Release Year  World Sales Added  Is it equal?  \n",
       "0     PG-13   12.0         2015         2069521700          True  \n",
       "1     PG-13    4.0         2019         2797501328          True  \n",
       "2     PG-13   12.0         2009         2847246203          True  \n",
       "3       NaN    NaN         2018         1347597973          True  \n",
       "4       NaN    NaN         2018         2048359754          True  \n",
       "..      ...    ...          ...                ...           ...  \n",
       "913   PG-13    6.0         2004          117815157          True  \n",
       "914     NaN   12.0         2001          102992536          True  \n",
       "915   PG-13    8.0         2010          204594016          True  \n",
       "916       R   10.0         2003          107363905          True  \n",
       "917      PG    7.0         2011          169852759          True  \n",
       "\n",
       "[918 rows x 13 columns]"
      ]
     },
     "execution_count": 33,
     "metadata": {},
     "output_type": "execute_result"
    }
   ],
   "source": [
    "#Had to fix sort to index from Distributor\n",
    "df.sort_index(inplace = True)\n",
    "df"
   ]
  },
  {
   "cell_type": "markdown",
   "id": "efc712dd",
   "metadata": {},
   "source": [
    "I believe the data is now ready for analysis. I can compare movies by each category of sales, by month or year, and by license."
   ]
  },
  {
   "cell_type": "markdown",
   "id": "9eb4f7bf",
   "metadata": {},
   "source": [
    "# EDA"
   ]
  },
  {
   "cell_type": "code",
   "execution_count": 34,
   "id": "57e3615f",
   "metadata": {
    "scrolled": false
   },
   "outputs": [
    {
     "data": {
      "text/plain": [
       "count    800.000000\n",
       "mean       7.268750\n",
       "std        3.205756\n",
       "min        1.000000\n",
       "25%        5.000000\n",
       "50%        7.000000\n",
       "75%       11.000000\n",
       "max       12.000000\n",
       "Name: Month, dtype: float64"
      ]
     },
     "execution_count": 34,
     "metadata": {},
     "output_type": "execute_result"
    }
   ],
   "source": [
    "df['Month'].describe()"
   ]
  },
  {
   "cell_type": "code",
   "execution_count": 35,
   "id": "f940194d",
   "metadata": {
    "scrolled": true
   },
   "outputs": [
    {
     "data": {
      "text/plain": [
       "6.0     124\n",
       "12.0    113\n",
       "7.0     101\n",
       "5.0      92\n",
       "11.0     88\n",
       "3.0      59\n",
       "8.0      50\n",
       "10.0     48\n",
       "2.0      40\n",
       "4.0      34\n",
       "9.0      32\n",
       "1.0      19\n",
       "Name: Month, dtype: int64"
      ]
     },
     "execution_count": 35,
     "metadata": {},
     "output_type": "execute_result"
    }
   ],
   "source": [
    "df['Month'].value_counts()"
   ]
  },
  {
   "cell_type": "markdown",
   "id": "0f491776",
   "metadata": {},
   "source": [
    "This was an expected answer. Movie studios tend to release their biggest films in the summer months. "
   ]
  },
  {
   "cell_type": "markdown",
   "id": "32efe7da",
   "metadata": {},
   "source": [
    "### Most profitable genre"
   ]
  },
  {
   "cell_type": "code",
   "execution_count": 36,
   "id": "1f2e9919",
   "metadata": {},
   "outputs": [
    {
     "data": {
      "text/plain": [
       "0                              Action,Adventure,Sci-Fi\n",
       "1                        Action,Adventure,Drama,Sci-Fi\n",
       "2                      Action,Adventure,Fantasy,Sci-Fi\n",
       "3                              Action,Adventure,Sci-Fi\n",
       "4                              Action,Adventure,Sci-Fi\n",
       "                            ...                       \n",
       "913                                      Drama,Romance\n",
       "914    Action,Adventure,Animation,Comedy,Family,Sci-Fi\n",
       "915                            Biography,Drama,Romance\n",
       "916                                       Crime,Horror\n",
       "917                      Comedy,Family,Fantasy,Romance\n",
       "Name: Genre, Length: 918, dtype: object"
      ]
     },
     "execution_count": 36,
     "metadata": {},
     "output_type": "execute_result"
    }
   ],
   "source": [
    "df_genre = df['Genre'].str.replace('(\\[|\\]|\\ |\\')', '',regex=True)\n",
    "df_genre"
   ]
  },
  {
   "cell_type": "code",
   "execution_count": 37,
   "id": "8dc68953",
   "metadata": {},
   "outputs": [
    {
     "data": {
      "text/html": [
       "<div>\n",
       "<style scoped>\n",
       "    .dataframe tbody tr th:only-of-type {\n",
       "        vertical-align: middle;\n",
       "    }\n",
       "\n",
       "    .dataframe tbody tr th {\n",
       "        vertical-align: top;\n",
       "    }\n",
       "\n",
       "    .dataframe thead th {\n",
       "        text-align: right;\n",
       "    }\n",
       "</style>\n",
       "<table border=\"1\" class=\"dataframe\">\n",
       "  <thead>\n",
       "    <tr style=\"text-align: right;\">\n",
       "      <th></th>\n",
       "      <th>Action</th>\n",
       "      <th>Adventure</th>\n",
       "      <th>Animation</th>\n",
       "      <th>Biography</th>\n",
       "      <th>Comedy</th>\n",
       "      <th>Crime</th>\n",
       "      <th>Documentary</th>\n",
       "      <th>Drama</th>\n",
       "      <th>Family</th>\n",
       "      <th>Fantasy</th>\n",
       "      <th>...</th>\n",
       "      <th>Horror</th>\n",
       "      <th>Music</th>\n",
       "      <th>Musical</th>\n",
       "      <th>Mystery</th>\n",
       "      <th>Romance</th>\n",
       "      <th>Sci-Fi</th>\n",
       "      <th>Sport</th>\n",
       "      <th>Thriller</th>\n",
       "      <th>War</th>\n",
       "      <th>Western</th>\n",
       "    </tr>\n",
       "  </thead>\n",
       "  <tbody>\n",
       "    <tr>\n",
       "      <th>0</th>\n",
       "      <td>1</td>\n",
       "      <td>1</td>\n",
       "      <td>0</td>\n",
       "      <td>0</td>\n",
       "      <td>0</td>\n",
       "      <td>0</td>\n",
       "      <td>0</td>\n",
       "      <td>0</td>\n",
       "      <td>0</td>\n",
       "      <td>0</td>\n",
       "      <td>...</td>\n",
       "      <td>0</td>\n",
       "      <td>0</td>\n",
       "      <td>0</td>\n",
       "      <td>0</td>\n",
       "      <td>0</td>\n",
       "      <td>1</td>\n",
       "      <td>0</td>\n",
       "      <td>0</td>\n",
       "      <td>0</td>\n",
       "      <td>0</td>\n",
       "    </tr>\n",
       "    <tr>\n",
       "      <th>1</th>\n",
       "      <td>1</td>\n",
       "      <td>1</td>\n",
       "      <td>0</td>\n",
       "      <td>0</td>\n",
       "      <td>0</td>\n",
       "      <td>0</td>\n",
       "      <td>0</td>\n",
       "      <td>1</td>\n",
       "      <td>0</td>\n",
       "      <td>0</td>\n",
       "      <td>...</td>\n",
       "      <td>0</td>\n",
       "      <td>0</td>\n",
       "      <td>0</td>\n",
       "      <td>0</td>\n",
       "      <td>0</td>\n",
       "      <td>1</td>\n",
       "      <td>0</td>\n",
       "      <td>0</td>\n",
       "      <td>0</td>\n",
       "      <td>0</td>\n",
       "    </tr>\n",
       "    <tr>\n",
       "      <th>2</th>\n",
       "      <td>1</td>\n",
       "      <td>1</td>\n",
       "      <td>0</td>\n",
       "      <td>0</td>\n",
       "      <td>0</td>\n",
       "      <td>0</td>\n",
       "      <td>0</td>\n",
       "      <td>0</td>\n",
       "      <td>0</td>\n",
       "      <td>1</td>\n",
       "      <td>...</td>\n",
       "      <td>0</td>\n",
       "      <td>0</td>\n",
       "      <td>0</td>\n",
       "      <td>0</td>\n",
       "      <td>0</td>\n",
       "      <td>1</td>\n",
       "      <td>0</td>\n",
       "      <td>0</td>\n",
       "      <td>0</td>\n",
       "      <td>0</td>\n",
       "    </tr>\n",
       "    <tr>\n",
       "      <th>3</th>\n",
       "      <td>1</td>\n",
       "      <td>1</td>\n",
       "      <td>0</td>\n",
       "      <td>0</td>\n",
       "      <td>0</td>\n",
       "      <td>0</td>\n",
       "      <td>0</td>\n",
       "      <td>0</td>\n",
       "      <td>0</td>\n",
       "      <td>0</td>\n",
       "      <td>...</td>\n",
       "      <td>0</td>\n",
       "      <td>0</td>\n",
       "      <td>0</td>\n",
       "      <td>0</td>\n",
       "      <td>0</td>\n",
       "      <td>1</td>\n",
       "      <td>0</td>\n",
       "      <td>0</td>\n",
       "      <td>0</td>\n",
       "      <td>0</td>\n",
       "    </tr>\n",
       "    <tr>\n",
       "      <th>4</th>\n",
       "      <td>1</td>\n",
       "      <td>1</td>\n",
       "      <td>0</td>\n",
       "      <td>0</td>\n",
       "      <td>0</td>\n",
       "      <td>0</td>\n",
       "      <td>0</td>\n",
       "      <td>0</td>\n",
       "      <td>0</td>\n",
       "      <td>0</td>\n",
       "      <td>...</td>\n",
       "      <td>0</td>\n",
       "      <td>0</td>\n",
       "      <td>0</td>\n",
       "      <td>0</td>\n",
       "      <td>0</td>\n",
       "      <td>1</td>\n",
       "      <td>0</td>\n",
       "      <td>0</td>\n",
       "      <td>0</td>\n",
       "      <td>0</td>\n",
       "    </tr>\n",
       "    <tr>\n",
       "      <th>...</th>\n",
       "      <td>...</td>\n",
       "      <td>...</td>\n",
       "      <td>...</td>\n",
       "      <td>...</td>\n",
       "      <td>...</td>\n",
       "      <td>...</td>\n",
       "      <td>...</td>\n",
       "      <td>...</td>\n",
       "      <td>...</td>\n",
       "      <td>...</td>\n",
       "      <td>...</td>\n",
       "      <td>...</td>\n",
       "      <td>...</td>\n",
       "      <td>...</td>\n",
       "      <td>...</td>\n",
       "      <td>...</td>\n",
       "      <td>...</td>\n",
       "      <td>...</td>\n",
       "      <td>...</td>\n",
       "      <td>...</td>\n",
       "      <td>...</td>\n",
       "    </tr>\n",
       "    <tr>\n",
       "      <th>913</th>\n",
       "      <td>0</td>\n",
       "      <td>0</td>\n",
       "      <td>0</td>\n",
       "      <td>0</td>\n",
       "      <td>0</td>\n",
       "      <td>0</td>\n",
       "      <td>0</td>\n",
       "      <td>1</td>\n",
       "      <td>0</td>\n",
       "      <td>0</td>\n",
       "      <td>...</td>\n",
       "      <td>0</td>\n",
       "      <td>0</td>\n",
       "      <td>0</td>\n",
       "      <td>0</td>\n",
       "      <td>1</td>\n",
       "      <td>0</td>\n",
       "      <td>0</td>\n",
       "      <td>0</td>\n",
       "      <td>0</td>\n",
       "      <td>0</td>\n",
       "    </tr>\n",
       "    <tr>\n",
       "      <th>914</th>\n",
       "      <td>1</td>\n",
       "      <td>1</td>\n",
       "      <td>1</td>\n",
       "      <td>0</td>\n",
       "      <td>1</td>\n",
       "      <td>0</td>\n",
       "      <td>0</td>\n",
       "      <td>0</td>\n",
       "      <td>1</td>\n",
       "      <td>0</td>\n",
       "      <td>...</td>\n",
       "      <td>0</td>\n",
       "      <td>0</td>\n",
       "      <td>0</td>\n",
       "      <td>0</td>\n",
       "      <td>0</td>\n",
       "      <td>1</td>\n",
       "      <td>0</td>\n",
       "      <td>0</td>\n",
       "      <td>0</td>\n",
       "      <td>0</td>\n",
       "    </tr>\n",
       "    <tr>\n",
       "      <th>915</th>\n",
       "      <td>0</td>\n",
       "      <td>0</td>\n",
       "      <td>0</td>\n",
       "      <td>1</td>\n",
       "      <td>0</td>\n",
       "      <td>0</td>\n",
       "      <td>0</td>\n",
       "      <td>1</td>\n",
       "      <td>0</td>\n",
       "      <td>0</td>\n",
       "      <td>...</td>\n",
       "      <td>0</td>\n",
       "      <td>0</td>\n",
       "      <td>0</td>\n",
       "      <td>0</td>\n",
       "      <td>1</td>\n",
       "      <td>0</td>\n",
       "      <td>0</td>\n",
       "      <td>0</td>\n",
       "      <td>0</td>\n",
       "      <td>0</td>\n",
       "    </tr>\n",
       "    <tr>\n",
       "      <th>916</th>\n",
       "      <td>0</td>\n",
       "      <td>0</td>\n",
       "      <td>0</td>\n",
       "      <td>0</td>\n",
       "      <td>0</td>\n",
       "      <td>1</td>\n",
       "      <td>0</td>\n",
       "      <td>0</td>\n",
       "      <td>0</td>\n",
       "      <td>0</td>\n",
       "      <td>...</td>\n",
       "      <td>1</td>\n",
       "      <td>0</td>\n",
       "      <td>0</td>\n",
       "      <td>0</td>\n",
       "      <td>0</td>\n",
       "      <td>0</td>\n",
       "      <td>0</td>\n",
       "      <td>0</td>\n",
       "      <td>0</td>\n",
       "      <td>0</td>\n",
       "    </tr>\n",
       "    <tr>\n",
       "      <th>917</th>\n",
       "      <td>0</td>\n",
       "      <td>0</td>\n",
       "      <td>0</td>\n",
       "      <td>0</td>\n",
       "      <td>1</td>\n",
       "      <td>0</td>\n",
       "      <td>0</td>\n",
       "      <td>0</td>\n",
       "      <td>1</td>\n",
       "      <td>1</td>\n",
       "      <td>...</td>\n",
       "      <td>0</td>\n",
       "      <td>0</td>\n",
       "      <td>0</td>\n",
       "      <td>0</td>\n",
       "      <td>1</td>\n",
       "      <td>0</td>\n",
       "      <td>0</td>\n",
       "      <td>0</td>\n",
       "      <td>0</td>\n",
       "      <td>0</td>\n",
       "    </tr>\n",
       "  </tbody>\n",
       "</table>\n",
       "<p>918 rows × 21 columns</p>\n",
       "</div>"
      ],
      "text/plain": [
       "     Action  Adventure  Animation  Biography  Comedy  Crime  Documentary  \\\n",
       "0         1          1          0          0       0      0            0   \n",
       "1         1          1          0          0       0      0            0   \n",
       "2         1          1          0          0       0      0            0   \n",
       "3         1          1          0          0       0      0            0   \n",
       "4         1          1          0          0       0      0            0   \n",
       "..      ...        ...        ...        ...     ...    ...          ...   \n",
       "913       0          0          0          0       0      0            0   \n",
       "914       1          1          1          0       1      0            0   \n",
       "915       0          0          0          1       0      0            0   \n",
       "916       0          0          0          0       0      1            0   \n",
       "917       0          0          0          0       1      0            0   \n",
       "\n",
       "     Drama  Family  Fantasy  ...  Horror  Music  Musical  Mystery  Romance  \\\n",
       "0        0       0        0  ...       0      0        0        0        0   \n",
       "1        1       0        0  ...       0      0        0        0        0   \n",
       "2        0       0        1  ...       0      0        0        0        0   \n",
       "3        0       0        0  ...       0      0        0        0        0   \n",
       "4        0       0        0  ...       0      0        0        0        0   \n",
       "..     ...     ...      ...  ...     ...    ...      ...      ...      ...   \n",
       "913      1       0        0  ...       0      0        0        0        1   \n",
       "914      0       1        0  ...       0      0        0        0        0   \n",
       "915      1       0        0  ...       0      0        0        0        1   \n",
       "916      0       0        0  ...       1      0        0        0        0   \n",
       "917      0       1        1  ...       0      0        0        0        1   \n",
       "\n",
       "     Sci-Fi  Sport  Thriller  War  Western  \n",
       "0         1      0         0    0        0  \n",
       "1         1      0         0    0        0  \n",
       "2         1      0         0    0        0  \n",
       "3         1      0         0    0        0  \n",
       "4         1      0         0    0        0  \n",
       "..      ...    ...       ...  ...      ...  \n",
       "913       0      0         0    0        0  \n",
       "914       1      0         0    0        0  \n",
       "915       0      0         0    0        0  \n",
       "916       0      0         0    0        0  \n",
       "917       0      0         0    0        0  \n",
       "\n",
       "[918 rows x 21 columns]"
      ]
     },
     "execution_count": 37,
     "metadata": {},
     "output_type": "execute_result"
    }
   ],
   "source": [
    "df_genre = df_genre.str.get_dummies(sep=',')\n",
    "df_genre"
   ]
  },
  {
   "cell_type": "code",
   "execution_count": 38,
   "id": "2bc074cc",
   "metadata": {},
   "outputs": [
    {
     "data": {
      "text/plain": [
       "Adventure      432\n",
       "Comedy         399\n",
       "Action         396\n",
       "Drama          300\n",
       "Thriller       230\n",
       "Sci-Fi         228\n",
       "Family         227\n",
       "Fantasy        227\n",
       "Romance        142\n",
       "Animation      140\n",
       "Crime          136\n",
       "Mystery         87\n",
       "Musical         51\n",
       "Horror          45\n",
       "Biography       39\n",
       "Music           33\n",
       "Sport           28\n",
       "War             27\n",
       "History         22\n",
       "Western         14\n",
       "Documentary      2\n",
       "dtype: int64"
      ]
     },
     "execution_count": 38,
     "metadata": {},
     "output_type": "execute_result"
    }
   ],
   "source": [
    "#Find the most common genre\n",
    "df_genre.sum().sort_values(ascending = False)"
   ]
  },
  {
   "cell_type": "code",
   "execution_count": 39,
   "id": "3e9f2973",
   "metadata": {},
   "outputs": [
    {
     "data": {
      "text/html": [
       "<div>\n",
       "<style scoped>\n",
       "    .dataframe tbody tr th:only-of-type {\n",
       "        vertical-align: middle;\n",
       "    }\n",
       "\n",
       "    .dataframe tbody tr th {\n",
       "        vertical-align: top;\n",
       "    }\n",
       "\n",
       "    .dataframe thead th {\n",
       "        text-align: right;\n",
       "    }\n",
       "</style>\n",
       "<table border=\"1\" class=\"dataframe\">\n",
       "  <thead>\n",
       "    <tr style=\"text-align: right;\">\n",
       "      <th></th>\n",
       "      <th>Action</th>\n",
       "      <th>Adventure</th>\n",
       "      <th>Animation</th>\n",
       "      <th>Biography</th>\n",
       "      <th>Comedy</th>\n",
       "      <th>Crime</th>\n",
       "      <th>Documentary</th>\n",
       "      <th>Drama</th>\n",
       "      <th>Family</th>\n",
       "      <th>Fantasy</th>\n",
       "      <th>...</th>\n",
       "      <th>Horror</th>\n",
       "      <th>Music</th>\n",
       "      <th>Musical</th>\n",
       "      <th>Mystery</th>\n",
       "      <th>Romance</th>\n",
       "      <th>Sci-Fi</th>\n",
       "      <th>Sport</th>\n",
       "      <th>Thriller</th>\n",
       "      <th>War</th>\n",
       "      <th>Western</th>\n",
       "    </tr>\n",
       "  </thead>\n",
       "  <tbody>\n",
       "    <tr>\n",
       "      <th>0</th>\n",
       "      <td>2069521700</td>\n",
       "      <td>2069521700</td>\n",
       "      <td>0</td>\n",
       "      <td>0</td>\n",
       "      <td>0</td>\n",
       "      <td>0</td>\n",
       "      <td>0</td>\n",
       "      <td>0</td>\n",
       "      <td>0</td>\n",
       "      <td>0</td>\n",
       "      <td>...</td>\n",
       "      <td>0</td>\n",
       "      <td>0</td>\n",
       "      <td>0</td>\n",
       "      <td>0</td>\n",
       "      <td>0</td>\n",
       "      <td>2069521700</td>\n",
       "      <td>0</td>\n",
       "      <td>0</td>\n",
       "      <td>0</td>\n",
       "      <td>0</td>\n",
       "    </tr>\n",
       "    <tr>\n",
       "      <th>1</th>\n",
       "      <td>2797501328</td>\n",
       "      <td>2797501328</td>\n",
       "      <td>0</td>\n",
       "      <td>0</td>\n",
       "      <td>0</td>\n",
       "      <td>0</td>\n",
       "      <td>0</td>\n",
       "      <td>2797501328</td>\n",
       "      <td>0</td>\n",
       "      <td>0</td>\n",
       "      <td>...</td>\n",
       "      <td>0</td>\n",
       "      <td>0</td>\n",
       "      <td>0</td>\n",
       "      <td>0</td>\n",
       "      <td>0</td>\n",
       "      <td>2797501328</td>\n",
       "      <td>0</td>\n",
       "      <td>0</td>\n",
       "      <td>0</td>\n",
       "      <td>0</td>\n",
       "    </tr>\n",
       "    <tr>\n",
       "      <th>2</th>\n",
       "      <td>2847246203</td>\n",
       "      <td>2847246203</td>\n",
       "      <td>0</td>\n",
       "      <td>0</td>\n",
       "      <td>0</td>\n",
       "      <td>0</td>\n",
       "      <td>0</td>\n",
       "      <td>0</td>\n",
       "      <td>0</td>\n",
       "      <td>2847246203</td>\n",
       "      <td>...</td>\n",
       "      <td>0</td>\n",
       "      <td>0</td>\n",
       "      <td>0</td>\n",
       "      <td>0</td>\n",
       "      <td>0</td>\n",
       "      <td>2847246203</td>\n",
       "      <td>0</td>\n",
       "      <td>0</td>\n",
       "      <td>0</td>\n",
       "      <td>0</td>\n",
       "    </tr>\n",
       "    <tr>\n",
       "      <th>3</th>\n",
       "      <td>1347597973</td>\n",
       "      <td>1347597973</td>\n",
       "      <td>0</td>\n",
       "      <td>0</td>\n",
       "      <td>0</td>\n",
       "      <td>0</td>\n",
       "      <td>0</td>\n",
       "      <td>0</td>\n",
       "      <td>0</td>\n",
       "      <td>0</td>\n",
       "      <td>...</td>\n",
       "      <td>0</td>\n",
       "      <td>0</td>\n",
       "      <td>0</td>\n",
       "      <td>0</td>\n",
       "      <td>0</td>\n",
       "      <td>1347597973</td>\n",
       "      <td>0</td>\n",
       "      <td>0</td>\n",
       "      <td>0</td>\n",
       "      <td>0</td>\n",
       "    </tr>\n",
       "    <tr>\n",
       "      <th>4</th>\n",
       "      <td>2048359754</td>\n",
       "      <td>2048359754</td>\n",
       "      <td>0</td>\n",
       "      <td>0</td>\n",
       "      <td>0</td>\n",
       "      <td>0</td>\n",
       "      <td>0</td>\n",
       "      <td>0</td>\n",
       "      <td>0</td>\n",
       "      <td>0</td>\n",
       "      <td>...</td>\n",
       "      <td>0</td>\n",
       "      <td>0</td>\n",
       "      <td>0</td>\n",
       "      <td>0</td>\n",
       "      <td>0</td>\n",
       "      <td>2048359754</td>\n",
       "      <td>0</td>\n",
       "      <td>0</td>\n",
       "      <td>0</td>\n",
       "      <td>0</td>\n",
       "    </tr>\n",
       "    <tr>\n",
       "      <th>...</th>\n",
       "      <td>...</td>\n",
       "      <td>...</td>\n",
       "      <td>...</td>\n",
       "      <td>...</td>\n",
       "      <td>...</td>\n",
       "      <td>...</td>\n",
       "      <td>...</td>\n",
       "      <td>...</td>\n",
       "      <td>...</td>\n",
       "      <td>...</td>\n",
       "      <td>...</td>\n",
       "      <td>...</td>\n",
       "      <td>...</td>\n",
       "      <td>...</td>\n",
       "      <td>...</td>\n",
       "      <td>...</td>\n",
       "      <td>...</td>\n",
       "      <td>...</td>\n",
       "      <td>...</td>\n",
       "      <td>...</td>\n",
       "      <td>...</td>\n",
       "    </tr>\n",
       "    <tr>\n",
       "      <th>913</th>\n",
       "      <td>0</td>\n",
       "      <td>0</td>\n",
       "      <td>0</td>\n",
       "      <td>0</td>\n",
       "      <td>0</td>\n",
       "      <td>0</td>\n",
       "      <td>0</td>\n",
       "      <td>117815157</td>\n",
       "      <td>0</td>\n",
       "      <td>0</td>\n",
       "      <td>...</td>\n",
       "      <td>0</td>\n",
       "      <td>0</td>\n",
       "      <td>0</td>\n",
       "      <td>0</td>\n",
       "      <td>117815157</td>\n",
       "      <td>0</td>\n",
       "      <td>0</td>\n",
       "      <td>0</td>\n",
       "      <td>0</td>\n",
       "      <td>0</td>\n",
       "    </tr>\n",
       "    <tr>\n",
       "      <th>914</th>\n",
       "      <td>102992536</td>\n",
       "      <td>102992536</td>\n",
       "      <td>102992536</td>\n",
       "      <td>0</td>\n",
       "      <td>102992536</td>\n",
       "      <td>0</td>\n",
       "      <td>0</td>\n",
       "      <td>0</td>\n",
       "      <td>102992536</td>\n",
       "      <td>0</td>\n",
       "      <td>...</td>\n",
       "      <td>0</td>\n",
       "      <td>0</td>\n",
       "      <td>0</td>\n",
       "      <td>0</td>\n",
       "      <td>0</td>\n",
       "      <td>102992536</td>\n",
       "      <td>0</td>\n",
       "      <td>0</td>\n",
       "      <td>0</td>\n",
       "      <td>0</td>\n",
       "    </tr>\n",
       "    <tr>\n",
       "      <th>915</th>\n",
       "      <td>0</td>\n",
       "      <td>0</td>\n",
       "      <td>0</td>\n",
       "      <td>204594016</td>\n",
       "      <td>0</td>\n",
       "      <td>0</td>\n",
       "      <td>0</td>\n",
       "      <td>204594016</td>\n",
       "      <td>0</td>\n",
       "      <td>0</td>\n",
       "      <td>...</td>\n",
       "      <td>0</td>\n",
       "      <td>0</td>\n",
       "      <td>0</td>\n",
       "      <td>0</td>\n",
       "      <td>204594016</td>\n",
       "      <td>0</td>\n",
       "      <td>0</td>\n",
       "      <td>0</td>\n",
       "      <td>0</td>\n",
       "      <td>0</td>\n",
       "    </tr>\n",
       "    <tr>\n",
       "      <th>916</th>\n",
       "      <td>0</td>\n",
       "      <td>0</td>\n",
       "      <td>0</td>\n",
       "      <td>0</td>\n",
       "      <td>0</td>\n",
       "      <td>107363905</td>\n",
       "      <td>0</td>\n",
       "      <td>0</td>\n",
       "      <td>0</td>\n",
       "      <td>0</td>\n",
       "      <td>...</td>\n",
       "      <td>107363905</td>\n",
       "      <td>0</td>\n",
       "      <td>0</td>\n",
       "      <td>0</td>\n",
       "      <td>0</td>\n",
       "      <td>0</td>\n",
       "      <td>0</td>\n",
       "      <td>0</td>\n",
       "      <td>0</td>\n",
       "      <td>0</td>\n",
       "    </tr>\n",
       "    <tr>\n",
       "      <th>917</th>\n",
       "      <td>0</td>\n",
       "      <td>0</td>\n",
       "      <td>0</td>\n",
       "      <td>0</td>\n",
       "      <td>169852759</td>\n",
       "      <td>0</td>\n",
       "      <td>0</td>\n",
       "      <td>0</td>\n",
       "      <td>169852759</td>\n",
       "      <td>169852759</td>\n",
       "      <td>...</td>\n",
       "      <td>0</td>\n",
       "      <td>0</td>\n",
       "      <td>0</td>\n",
       "      <td>0</td>\n",
       "      <td>169852759</td>\n",
       "      <td>0</td>\n",
       "      <td>0</td>\n",
       "      <td>0</td>\n",
       "      <td>0</td>\n",
       "      <td>0</td>\n",
       "    </tr>\n",
       "  </tbody>\n",
       "</table>\n",
       "<p>918 rows × 21 columns</p>\n",
       "</div>"
      ],
      "text/plain": [
       "         Action   Adventure  Animation  Biography     Comedy      Crime  \\\n",
       "0    2069521700  2069521700          0          0          0          0   \n",
       "1    2797501328  2797501328          0          0          0          0   \n",
       "2    2847246203  2847246203          0          0          0          0   \n",
       "3    1347597973  1347597973          0          0          0          0   \n",
       "4    2048359754  2048359754          0          0          0          0   \n",
       "..          ...         ...        ...        ...        ...        ...   \n",
       "913           0           0          0          0          0          0   \n",
       "914   102992536   102992536  102992536          0  102992536          0   \n",
       "915           0           0          0  204594016          0          0   \n",
       "916           0           0          0          0          0  107363905   \n",
       "917           0           0          0          0  169852759          0   \n",
       "\n",
       "     Documentary       Drama     Family     Fantasy  ...     Horror  Music  \\\n",
       "0              0           0          0           0  ...          0      0   \n",
       "1              0  2797501328          0           0  ...          0      0   \n",
       "2              0           0          0  2847246203  ...          0      0   \n",
       "3              0           0          0           0  ...          0      0   \n",
       "4              0           0          0           0  ...          0      0   \n",
       "..           ...         ...        ...         ...  ...        ...    ...   \n",
       "913            0   117815157          0           0  ...          0      0   \n",
       "914            0           0  102992536           0  ...          0      0   \n",
       "915            0   204594016          0           0  ...          0      0   \n",
       "916            0           0          0           0  ...  107363905      0   \n",
       "917            0           0  169852759   169852759  ...          0      0   \n",
       "\n",
       "     Musical  Mystery    Romance      Sci-Fi  Sport  Thriller  War  Western  \n",
       "0          0        0          0  2069521700      0         0    0        0  \n",
       "1          0        0          0  2797501328      0         0    0        0  \n",
       "2          0        0          0  2847246203      0         0    0        0  \n",
       "3          0        0          0  1347597973      0         0    0        0  \n",
       "4          0        0          0  2048359754      0         0    0        0  \n",
       "..       ...      ...        ...         ...    ...       ...  ...      ...  \n",
       "913        0        0  117815157           0      0         0    0        0  \n",
       "914        0        0          0   102992536      0         0    0        0  \n",
       "915        0        0  204594016           0      0         0    0        0  \n",
       "916        0        0          0           0      0         0    0        0  \n",
       "917        0        0  169852759           0      0         0    0        0  \n",
       "\n",
       "[918 rows x 21 columns]"
      ]
     },
     "execution_count": 39,
     "metadata": {},
     "output_type": "execute_result"
    }
   ],
   "source": [
    "#Calculating the total revenue per genre\n",
    "df_genre_mul = df_genre.mul(df['World Sales'], axis=0)\n",
    "df_genre_mul"
   ]
  },
  {
   "cell_type": "code",
   "execution_count": 40,
   "id": "2a101f7b",
   "metadata": {},
   "outputs": [
    {
     "data": {
      "text/plain": [
       "Adventure      229470200349\n",
       "Action         188363792761\n",
       "Comedy         131008997340\n",
       "Sci-Fi         122553076019\n",
       "Fantasy        111657356323\n",
       "Drama           98963789161\n",
       "Family          98508710535\n",
       "Thriller        82945767175\n",
       "Animation       66703180691\n",
       "Romance         46626573801\n",
       "Crime           41356910524\n",
       "Mystery         31177393515\n",
       "Musical         22929353459\n",
       "Horror          12288802095\n",
       "Music           10198584468\n",
       "Biography        9947363640\n",
       "War              7249944157\n",
       "Sport            6453245696\n",
       "History          6398639386\n",
       "Western          3717613627\n",
       "Documentary       394132674\n",
       "dtype: int64"
      ]
     },
     "execution_count": 40,
     "metadata": {},
     "output_type": "execute_result"
    }
   ],
   "source": [
    "#Adding revenue per genre\n",
    "(df_genre_mul.sum()).sort_values(ascending = False)"
   ]
  },
  {
   "cell_type": "markdown",
   "id": "28bbf0d4",
   "metadata": {},
   "source": [
    "Adventure is the highest earning genre. This doesn't make it the most profitable. I need to divide by the number of movies present with each genre to determine that."
   ]
  },
  {
   "cell_type": "code",
   "execution_count": 41,
   "id": "f2d1300a",
   "metadata": {},
   "outputs": [
    {
     "data": {
      "text/plain": [
       "Sci-Fi         5.375135e+08\n",
       "Adventure      5.311810e+08\n",
       "Fantasy        4.918826e+08\n",
       "Animation      4.764513e+08\n",
       "Action         4.756661e+08\n",
       "Musical        4.495952e+08\n",
       "Family         4.339591e+08\n",
       "Thriller       3.606338e+08\n",
       "Mystery        3.583608e+08\n",
       "Drama          3.298793e+08\n",
       "Romance        3.283562e+08\n",
       "Comedy         3.283434e+08\n",
       "Music          3.090480e+08\n",
       "Crime          3.040949e+08\n",
       "History        2.908472e+08\n",
       "Horror         2.730845e+08\n",
       "War            2.685165e+08\n",
       "Western        2.655438e+08\n",
       "Biography      2.550606e+08\n",
       "Sport          2.304731e+08\n",
       "Documentary    1.970663e+08\n",
       "dtype: float64"
      ]
     },
     "execution_count": 41,
     "metadata": {},
     "output_type": "execute_result"
    }
   ],
   "source": [
    "(df_genre_mul.sum()/df_genre.sum()).sort_values(ascending = False)"
   ]
  },
  {
   "cell_type": "markdown",
   "id": "7f6807ad",
   "metadata": {},
   "source": [
    "This shows that Sci-Fi is the most profitable genre per movie."
   ]
  },
  {
   "cell_type": "markdown",
   "id": "8e73e3c4",
   "metadata": {},
   "source": [
    "### By Distributor"
   ]
  },
  {
   "cell_type": "code",
   "execution_count": 42,
   "id": "f0eeda04",
   "metadata": {
    "scrolled": false
   },
   "outputs": [
    {
     "data": {
      "text/plain": [
       "Text(0.5, 1.0, 'Highest World Sales by Distributor')"
      ]
     },
     "execution_count": 42,
     "metadata": {},
     "output_type": "execute_result"
    },
    {
     "data": {
      "image/png": "[encoded data removed]",
      "text/plain": [
       "<Figure size 1440x720 with 1 Axes>"
      ]
     },
     "metadata": {
      "needs_background": "light"
     },
     "output_type": "display_data"
    }
   ],
   "source": [
    "# Highest World Sales by Distributor\n",
    "df_sales_dis = df.groupby('Distributor')['World Sales'].sum().to_frame().sort_values('World Sales', ascending = False)\n",
    "df_sales_dis.plot.bar(figsize = (20,10))\n",
    "plt.ylabel('World Sales')\n",
    "plt.title('Highest World Sales by Distributor')"
   ]
  },
  {
   "cell_type": "markdown",
   "id": "c72edc8a",
   "metadata": {},
   "source": [
    "We can clearly see that Disney is significantly earned more than its competitors"
   ]
  },
  {
   "cell_type": "code",
   "execution_count": 43,
   "id": "1adaa5c8",
   "metadata": {},
   "outputs": [
    {
     "data": {
      "text/plain": [
       "Text(0.5, 1.0, 'Number of Movies by Distributor')"
      ]
     },
     "execution_count": 43,
     "metadata": {},
     "output_type": "execute_result"
    },
    {
     "data": {
      "image/png": "[encoded data removed]",
      "text/plain": [
       "<Figure size 1080x720 with 1 Axes>"
      ]
     },
     "metadata": {
      "needs_background": "light"
     },
     "output_type": "display_data"
    }
   ],
   "source": [
    "# Titles by Distributor\n",
    "df_movies_dist = df['Distributor'].value_counts().to_frame().sort_values('Distributor', ascending = False)\n",
    "df_movies_dist.plot.bar(figsize = (15, 10))\n",
    "plt.xlabel('Distributor')\n",
    "plt.ylabel('Number of Movies')\n",
    "plt.title('Number of Movies by Distributor')"
   ]
  },
  {
   "cell_type": "markdown",
   "id": "1f45d179",
   "metadata": {},
   "source": [
    "Both Warner Bros and Disney have a significant proportion of movies in the top grossing movies."
   ]
  },
  {
   "cell_type": "code",
   "execution_count": 44,
   "id": "1e1c5181",
   "metadata": {},
   "outputs": [
    {
     "data": {
      "text/plain": [
       "Text(0.5, 1.0, 'Domestic and World Sales per Distributor')"
      ]
     },
     "execution_count": 44,
     "metadata": {},
     "output_type": "execute_result"
    },
    {
     "data": {
      "image/png": "[encoded data removed]",
      "text/plain": [
       "<Figure size 1224x432 with 1 Axes>"
      ]
     },
     "metadata": {
      "needs_background": "light"
     },
     "output_type": "display_data"
    }
   ],
   "source": [
    "# Proportion of Domestic Sales and International Sales by Distributor\n",
    "df_sales = df.groupby('Distributor')['Domestic Sales', 'International Sales', 'World Sales'].sum().sort_values('World Sales', ascending = False).head(10)\n",
    "df_sales.plot.bar(y = ['Domestic Sales', 'International Sales'], stacked = True, figsize = (17, 6))\n",
    "plt.ylabel('Total Sales')\n",
    "plt.title('Domestic and World Sales per Distributor')"
   ]
  },
  {
   "cell_type": "markdown",
   "id": "21b0444a",
   "metadata": {},
   "source": [
    "### Per Year Graphs"
   ]
  },
  {
   "cell_type": "code",
   "execution_count": 45,
   "id": "737ebc23",
   "metadata": {},
   "outputs": [
    {
     "name": "stdout",
     "output_type": "stream",
     "text": [
      "              World Sales\n",
      "Release Year             \n",
      "1937            184925486\n",
      "1953             87404651\n",
      "1955             93933394\n",
      "1970             81600000\n",
      "1972            246120986\n",
      "1973            441306145\n",
      "1975            471411300\n",
      "1977           1012511191\n",
      "1978            696722706\n",
      "1979            281048285\n",
      "1980            646560773\n",
      "1981            475222971\n",
      "1982            970110554\n",
      "1983            583529926\n",
      "1984            629686068\n",
      "1985            682380478\n",
      "1986            379319012\n",
      "1987            167780960\n",
      "1988           1042846978\n",
      "1989           1446034137\n",
      "1990           3383605098\n",
      "1991           2542406060\n",
      "1992           3803657824\n",
      "1993           3558306529\n",
      "1994           4770340499\n",
      "1995           3888123694\n",
      "1996           4869535373\n",
      "1997           6856515258\n",
      "1998           6059782085\n",
      "1999           8284525653\n",
      "2000           7202183128\n",
      "2001           8818869144\n",
      "2002          10420257479\n",
      "2003          10764281938\n",
      "2004          10714461642\n",
      "2005           9011076805\n",
      "2006           9769057230\n",
      "2007          12494758291\n",
      "2008          13219518513\n",
      "2009          16400302976\n",
      "2010          16091053808\n",
      "2011          15793906852\n",
      "2012          17724488959\n",
      "2013          18548359268\n",
      "2014          19424883503\n",
      "2015          19515099139\n",
      "2016          18492443974\n",
      "2017          20577388280\n",
      "2018          21009840827\n",
      "2019          21306746085\n",
      "2020           1245451649\n",
      "2021           7142062504\n"
     ]
    },
    {
     "data": {
      "text/plain": [
       "Text(0.5, 1.0, 'World Sales Over the Years')"
      ]
     },
     "execution_count": 45,
     "metadata": {},
     "output_type": "execute_result"
    },
    {
     "data": {
      "image/png": "[encoded data removed]",
      "text/plain": [
       "<Figure size 1440x720 with 1 Axes>"
      ]
     },
     "metadata": {
      "needs_background": "light"
     },
     "output_type": "display_data"
    }
   ],
   "source": [
    "#Graphing World Sales per year\n",
    "df_years = df['Release Year']\n",
    "\n",
    "#Merging years and World Sales into one df\n",
    "df_years = pd.concat([df_years, df['World Sales']],axis = 1)\n",
    "\n",
    "#Dropping NaN values since the table has values from 0 to 2021\n",
    "df_years = df_years.dropna()\n",
    "df_years.set_index('Release Year', inplace = True)\n",
    "df_years = df_years.groupby('Release Year').sum()\n",
    "\n",
    "print(df_years)\n",
    "\n",
    "df_years.plot.line(figsize = (20, 10))\n",
    "plt.ylabel('World Sales')\n",
    "plt.title('World Sales Over the Years')"
   ]
  },
  {
   "cell_type": "code",
   "execution_count": 46,
   "id": "9ffe6298",
   "metadata": {},
   "outputs": [
    {
     "data": {
      "text/plain": [
       "Text(0.5, 1.0, 'Number of high grossing films per year')"
      ]
     },
     "execution_count": 46,
     "metadata": {},
     "output_type": "execute_result"
    },
    {
     "data": {
      "image/png": "[encoded data removed]",
      "text/plain": [
       "<Figure size 1440x360 with 1 Axes>"
      ]
     },
     "metadata": {
      "needs_background": "light"
     },
     "output_type": "display_data"
    }
   ],
   "source": [
    "plt.figure(figsize=(20,5))\n",
    "df['Release Year'].value_counts()\n",
    "df['Release Year'].value_counts().plot.bar()\n",
    "plt.xlabel('Year')\n",
    "plt.ylabel('Number of Movies')\n",
    "plt.title('Number of high grossing films per year')"
   ]
  },
  {
   "cell_type": "markdown",
   "id": "8a6fb0f7",
   "metadata": {},
   "source": [
    "Bar graph showing that 2014, 2013, and 2010 had multiple films that were high grossing"
   ]
  },
  {
   "cell_type": "markdown",
   "id": "e752ab26",
   "metadata": {},
   "source": [
    "#### Extra Graphs that are less interesting"
   ]
  },
  {
   "cell_type": "code",
   "execution_count": 47,
   "id": "d58195f5",
   "metadata": {
    "scrolled": false
   },
   "outputs": [
    {
     "data": {
      "text/plain": [
       "PG-13    363\n",
       "R        194\n",
       "PG       173\n",
       "G         14\n",
       "Name: License, dtype: int64"
      ]
     },
     "execution_count": 47,
     "metadata": {},
     "output_type": "execute_result"
    },
    {
     "data": {
      "image/png": "[encoded data removed]",
      "text/plain": [
       "<Figure size 432x288 with 1 Axes>"
      ]
     },
     "metadata": {
      "needs_background": "light"
     },
     "output_type": "display_data"
    }
   ],
   "source": [
    "df['License'].value_counts().plot(kind='bar')\n",
    "df['License'].value_counts()"
   ]
  },
  {
   "cell_type": "markdown",
   "id": "df796cfb",
   "metadata": {},
   "source": [
    "What I was shotting for with this was trying to create multiple bar graphs by each distributor around how many movies they had with each licenses. I could only do it individual I couldn't figure out how to print all of them (or at least top 5) at once. "
   ]
  },
  {
   "cell_type": "code",
   "execution_count": 48,
   "id": "86695a7e",
   "metadata": {},
   "outputs": [
    {
     "data": {
      "image/png": "[encoded data removed]",
      "text/plain": [
       "<Figure size 1080x720 with 1 Axes>"
      ]
     },
     "metadata": {
      "needs_background": "light"
     },
     "output_type": "display_data"
    }
   ],
   "source": [
    "plt.figure(figsize=(15,10))\n",
    "df.boxplot(column=['Domestic Sales', 'International Sales', 'World Sales'])\n",
    "plt.show()"
   ]
  },
  {
   "cell_type": "markdown",
   "id": "9120e4f5",
   "metadata": {},
   "source": [
    "I figured boxplots would be boring since of course there's going to be outliers. The highest earning movies of all time will all appear as outliers when the other 900+ movies are factored in."
   ]
  },
  {
   "cell_type": "code",
   "execution_count": 49,
   "id": "a2f4e05b",
   "metadata": {},
   "outputs": [
    {
     "data": {
      "text/plain": [
       "<AxesSubplot:>"
      ]
     },
     "execution_count": 49,
     "metadata": {},
     "output_type": "execute_result"
    },
    {
     "data": {
      "image/png": "[encoded data removed]",
      "text/plain": [
       "<Figure size 432x288 with 2 Axes>"
      ]
     },
     "metadata": {
      "needs_background": "light"
     },
     "output_type": "display_data"
    }
   ],
   "source": [
    "sns.heatmap(df.corr(), annot=True, fmt='.2f', linewidths=2)"
   ]
  },
  {
   "cell_type": "markdown",
   "id": "38d580dc",
   "metadata": {},
   "source": [
    "As expected a lot of linear correaltion when it comes to sales. Of course a movie that does well domesitcally will most likely do well international and vice versa. The rest of the columns have little effect on one another. "
   ]
  }
 ],
 "metadata": {
  "kernelspec": {
   "display_name": "Python 3 (ipykernel)",
   "language": "python",
   "name": "python3"
  },
  "language_info": {
   "codemirror_mode": {
    "name": "ipython",
    "version": 3
   },
   "file_extension": ".py",
   "mimetype": "text/x-python",
   "name": "python",
   "nbconvert_exporter": "python",
   "pygments_lexer": "ipython3",
   "version": "3.9.7"
  }
 },
 "nbformat": 4,
 "nbformat_minor": 5
}
